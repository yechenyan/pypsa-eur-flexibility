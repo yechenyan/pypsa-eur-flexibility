{
 "cells": [
  {
   "cell_type": "code",
   "execution_count": 1,
   "metadata": {},
   "outputs": [
    {
     "name": "stderr",
     "output_type": "stream",
     "text": [
      "INFO:pypsa.io:Imported network base_s_27_3H_3H_2045.nc has buses, carriers, generators, global_constraints, lines, links, loads, storage_units, stores\n"
     ]
    }
   ],
   "source": [
    "import pypsa\n",
    "import matplotlib.pyplot as plt\n",
    "import pandas as pd\n",
    "import myUtils as utils\n",
    "\n",
    "pathTail = \"/networks/base_s_27_3H_3H_2045.nc\"\n",
    "\n",
    "\n",
    "\n",
    "plt.style.use('bmh')\n",
    "%matplotlib inline\n",
    "\n",
    "# nBase = pypsa.Network(f\"../../results/scenario/base{pathTail}\")\n",
    "nBase = pypsa.Network(\"../../results/smart/gas/networks/base_s_27_3H_3H_2045.nc\")\n"
   ]
  },
  {
   "cell_type": "code",
   "execution_count": 2,
   "metadata": {},
   "outputs": [
    {
     "ename": "NameError",
     "evalue": "name 'squarify' is not defined",
     "output_type": "error",
     "traceback": [
      "\u001b[0;31m---------------------------------------------------------------------------\u001b[0m",
      "\u001b[0;31mNameError\u001b[0m                                 Traceback (most recent call last)",
      "Cell \u001b[0;32mIn[2], line 12\u001b[0m\n\u001b[1;32m      5\u001b[0m s \u001b[38;5;241m=\u001b[39m nBase\u001b[38;5;241m.\u001b[39mstatistics\u001b[38;5;241m.\u001b[39mcapex(groupby\u001b[38;5;241m=\u001b[39m[\u001b[38;5;124m\"\u001b[39m\u001b[38;5;124mcarrier\u001b[39m\u001b[38;5;124m\"\u001b[39m,\u001b[38;5;124m\"\u001b[39m\u001b[38;5;124mde_grouper\u001b[39m\u001b[38;5;124m\"\u001b[39m])\u001b[38;5;241m.\u001b[39mgroupby(\u001b[38;5;124m'\u001b[39m\u001b[38;5;124mcarrier\u001b[39m\u001b[38;5;124m'\u001b[39m)\u001b[38;5;241m.\u001b[39msum()\n\u001b[1;32m      6\u001b[0m \u001b[38;5;66;03m# print(s.sum())\u001b[39;00m\n\u001b[1;32m      7\u001b[0m \u001b[38;5;66;03m# df = s.to_frame('value')\u001b[39;00m\n\u001b[1;32m      8\u001b[0m \n\u001b[1;32m      9\u001b[0m \u001b[38;5;66;03m# print(df)\u001b[39;00m\n\u001b[1;32m     10\u001b[0m \u001b[38;5;66;03m# # print(utils.dataframe_to_table(df))\u001b[39;00m\n\u001b[0;32m---> 12\u001b[0m \u001b[43msquarify\u001b[49m\u001b[38;5;241m.\u001b[39mplot(sizes\u001b[38;5;241m=\u001b[39ms\u001b[38;5;241m.\u001b[39mvalues,  alpha\u001b[38;5;241m=\u001b[39m\u001b[38;5;241m.8\u001b[39m,)\n\u001b[1;32m     13\u001b[0m plt\u001b[38;5;241m.\u001b[39maxis(\u001b[38;5;124m'\u001b[39m\u001b[38;5;124moff\u001b[39m\u001b[38;5;124m'\u001b[39m)  \u001b[38;5;66;03m# 去掉坐标轴\u001b[39;00m\n\u001b[1;32m     14\u001b[0m plt\u001b[38;5;241m.\u001b[39mtitle(\u001b[38;5;124m'\u001b[39m\u001b[38;5;124mCarrier Value Treemap\u001b[39m\u001b[38;5;124m'\u001b[39m)  \u001b[38;5;66;03m# 设置标题\u001b[39;00m\n",
      "\u001b[0;31mNameError\u001b[0m: name 'squarify' is not defined"
     ]
    }
   ],
   "source": [
    "import myUtils as utils\n",
    "import importlib\n",
    "importlib.reload(utils)\n",
    "\n",
    "s = nBase.statistics.capex(groupby=[\"carrier\",\"de_grouper\"]).groupby('carrier').sum()\n",
    "# print(s.sum())\n",
    "# df = s.to_frame('value')\n",
    "\n",
    "# print(df)\n",
    "# # print(utils.dataframe_to_table(df))\n",
    "\n",
    "squarify.plot(sizes=s.values,  alpha=.8,)\n",
    "plt.axis('off')  # 去掉坐标轴\n",
    "plt.title('Carrier Value Treemap')  # 设置标题\n",
    "plt.show()"
   ]
  },
  {
   "cell_type": "code",
   "execution_count": 3,
   "metadata": {},
   "outputs": [
    {
     "data": {
      "application/vnd.plotly.v1+json": {
       "config": {
        "plotlyServerURL": "https://plot.ly"
       },
       "data": [
        {
         "branchvalues": "total",
         "customdata": [
          [
           0.00157291173386
          ],
          [
           0.00034723131098000003
          ],
          [
           0.00055236210322
          ],
          [
           1.41834424043766
          ],
          [
           0.00023745372254000002
          ],
          [
           5.6495e-10
          ],
          [
           0.011350465027270003
          ],
          [
           0.04926657826964
          ],
          [
           0.0014446933594100002
          ],
          [
           0.0087477748827
          ],
          [
           0.00005398630386
          ],
          [
           0.00330100838483
          ],
          [
           0.0006065808034599999
          ],
          [
           0.00008470453006000001
          ],
          [
           1.8283e-10
          ],
          [
           2.1410000000000002e-10
          ],
          [
           0.00219404619471
          ],
          [
           0.00095531224778
          ],
          [
           0.00000183007915
          ],
          [
           0.00012966119526
          ],
          [
           1.9193528191291502
          ],
          [
           0.08905635283064
          ],
          [
           0.00094104656741
          ],
          [
           0.0000717288
          ],
          [
           0.006566066290559999
          ],
          [
           0.47257371399299003
          ],
          [
           9.2453e-10
          ],
          [
           0.0008364434171900001
          ],
          [
           0.0018890204696100001
          ],
          [
           -0.00007360809666
          ],
          [
           9.1928e-10
          ],
          [
           0.00000169933147
          ],
          [
           1.5642000000000001e-10
          ],
          [
           170.9259335274043
          ],
          [
           0.000024000000000000004
          ],
          [
           0.00122103495868
          ],
          [
           0.00080506012081
          ],
          [
           1.2771210000000001e-8
          ],
          [
           0.0009733
          ],
          [
           5.0206242e-7
          ],
          [
           0.0003993471896200001
          ],
          [
           0.0010432766959300001
          ],
          [
           9.583999999999999e-11
          ],
          [
           0.00014082140237
          ],
          [
           0.00002857846107
          ],
          [
           0.00244668582785
          ],
          [
           2.7950199999999997e-9
          ],
          [
           3.27963846936919
          ],
          [
           3.6057e-10
          ],
          [
           0.00136811071049
          ],
          [
           1.338751e-7
          ],
          [
           2.59622e-7
          ],
          [
           0.00039563290185000004
          ],
          [
           0.00207177463418
          ],
          [
           1.5695e-10
          ],
          [
           2.6295071e-7
          ],
          [
           0.25687380749799
          ],
          [
           4.9150808e-7
          ],
          [
           0.00069178673561
          ],
          [
           0.00135750143392
          ],
          [
           6.775e-11
          ]
         ],
         "domain": {
          "x": [
           0,
           1
          ],
          "y": [
           0,
           1
          ]
         },
         "hovertemplate": "labels=%{label}<br>Mrd. EUR_sum=%{value}<br>parent=%{parent}<br>id=%{id}<br>Mrd. EUR=%{color}<extra></extra>",
         "ids": [
          "BEV charger",
          "DAC",
          "DC",
          "Fischer-Tropsch",
          "H2 Electrolysis",
          "H2 Fuel Cell",
          "H2 pipeline",
          "H2 turbine",
          "Offshore Wind (AC)",
          "Offshore Wind (DC)",
          "Offshore Wind (Floating)",
          "Onshore Wind",
          "Open-Cycle Gas",
          "Pumped Hydro Storage",
          "SMR",
          "SMR CC",
          "Sabatier",
          "Solar",
          "V2G",
          "agriculture machinery oil",
          "biogas",
          "biogas to gas",
          "co2 sequestered",
          "coal for industry",
          "electricity distribution grid",
          "gas",
          "gas for industry",
          "gas for industry CC",
          "gas pipeline",
          "gas pipeline new",
          "geothermal district heat",
          "geothermal heat",
          "geothermal organic rankine cycle",
          "h2 import",
          "industry methanol",
          "kerosene for aviation",
          "land transport oil",
          "methanolisation",
          "naphtha for industry",
          "rural biomass boiler",
          "rural gas boiler",
          "rural resistive heater",
          "rural solar thermal",
          "shipping methanol",
          "shipping oil",
          "solar rooftop",
          "solar-hsat",
          "solid biomass",
          "solid biomass for industry",
          "solid biomass for industry CC",
          "urban central CHP",
          "urban central CHP CC",
          "urban central gas boiler",
          "urban central resistive heater",
          "urban central solar thermal",
          "urban central solid biomass CHP",
          "urban central solid biomass CHP CC",
          "urban decentral biomass boiler",
          "urban decentral gas boiler",
          "urban decentral resistive heater",
          "urban decentral solar thermal"
         ],
         "labels": [
          "BEV charger",
          "DAC",
          "DC",
          "Fischer-Tropsch",
          "H2 Electrolysis",
          "H2 Fuel Cell",
          "H2 pipeline",
          "H2 turbine",
          "Offshore Wind (AC)",
          "Offshore Wind (DC)",
          "Offshore Wind (Floating)",
          "Onshore Wind",
          "Open-Cycle Gas",
          "Pumped Hydro Storage",
          "SMR",
          "SMR CC",
          "Sabatier",
          "Solar",
          "V2G",
          "agriculture machinery oil",
          "biogas",
          "biogas to gas",
          "co2 sequestered",
          "coal for industry",
          "electricity distribution grid",
          "gas",
          "gas for industry",
          "gas for industry CC",
          "gas pipeline",
          "gas pipeline new",
          "geothermal district heat",
          "geothermal heat",
          "geothermal organic rankine cycle",
          "h2 import",
          "industry methanol",
          "kerosene for aviation",
          "land transport oil",
          "methanolisation",
          "naphtha for industry",
          "rural biomass boiler",
          "rural gas boiler",
          "rural resistive heater",
          "rural solar thermal",
          "shipping methanol",
          "shipping oil",
          "solar rooftop",
          "solar-hsat",
          "solid biomass",
          "solid biomass for industry",
          "solid biomass for industry CC",
          "urban central CHP",
          "urban central CHP CC",
          "urban central gas boiler",
          "urban central resistive heater",
          "urban central solar thermal",
          "urban central solid biomass CHP",
          "urban central solid biomass CHP CC",
          "urban decentral biomass boiler",
          "urban decentral gas boiler",
          "urban decentral resistive heater",
          "urban decentral solar thermal"
         ],
         "marker": {
          "coloraxis": "coloraxis",
          "colors": [
           0.00157291173386,
           0.00034723131098000003,
           0.00055236210322,
           1.41834424043766,
           0.00023745372254000002,
           5.6495e-10,
           0.011350465027270003,
           0.04926657826964,
           0.0014446933594100002,
           0.0087477748827,
           0.00005398630386,
           0.00330100838483,
           0.0006065808034599999,
           0.00008470453006000001,
           1.8283e-10,
           2.1410000000000002e-10,
           0.00219404619471,
           0.00095531224778,
           0.00000183007915,
           0.00012966119526,
           1.9193528191291502,
           0.08905635283064,
           0.00094104656741,
           0.0000717288,
           0.006566066290559999,
           0.47257371399299003,
           9.2453e-10,
           0.0008364434171900001,
           0.0018890204696100001,
           -0.00007360809666,
           9.1928e-10,
           0.00000169933147,
           1.5642000000000001e-10,
           170.9259335274043,
           0.000024000000000000004,
           0.00122103495868,
           0.00080506012081,
           1.2771210000000001e-8,
           0.0009733,
           5.0206242e-7,
           0.0003993471896200001,
           0.0010432766959300001,
           9.583999999999999e-11,
           0.00014082140237,
           0.00002857846107,
           0.00244668582785,
           2.7950199999999997e-9,
           3.27963846936919,
           3.6057e-10,
           0.00136811071049,
           1.338751e-7,
           2.59622e-7,
           0.00039563290185000004,
           0.00207177463418,
           1.5695e-10,
           2.6295071e-7,
           0.25687380749799,
           4.9150808e-7,
           0.00069178673561,
           0.00135750143392,
           6.775e-11
          ]
         },
         "name": "",
         "parents": [
          "",
          "",
          "",
          "",
          "",
          "",
          "",
          "",
          "",
          "",
          "",
          "",
          "",
          "",
          "",
          "",
          "",
          "",
          "",
          "",
          "",
          "",
          "",
          "",
          "",
          "",
          "",
          "",
          "",
          "",
          "",
          "",
          "",
          "",
          "",
          "",
          "",
          "",
          "",
          "",
          "",
          "",
          "",
          "",
          "",
          "",
          "",
          "",
          "",
          "",
          "",
          "",
          "",
          "",
          "",
          "",
          "",
          "",
          "",
          "",
          ""
         ],
         "type": "treemap",
         "values": [
          0.00157291173386,
          0.00034723131098000003,
          0.00055236210322,
          1.41834424043766,
          0.00023745372254000002,
          5.6495e-10,
          0.011350465027270001,
          0.04926657826964,
          0.00144469335941,
          0.0087477748827,
          0.00005398630386,
          0.00330100838483,
          0.0006065808034599999,
          0.00008470453006000001,
          1.8283e-10,
          2.1410000000000002e-10,
          0.00219404619471,
          0.00095531224778,
          0.00000183007915,
          0.00012966119526,
          1.9193528191291502,
          0.08905635283064,
          0.00094104656741,
          0.0000717288,
          0.006566066290559999,
          0.47257371399299003,
          9.2453e-10,
          0.0008364434171900001,
          0.0018890204696100001,
          -0.00007360809666,
          9.1928e-10,
          0.00000169933147,
          1.5642000000000001e-10,
          170.9259335274043,
          0.000024,
          0.00122103495868,
          0.00080506012081,
          1.277121e-8,
          0.0009733,
          5.0206242e-7,
          0.00039934718962,
          0.0010432766959300001,
          9.583999999999999e-11,
          0.00014082140237,
          0.00002857846107,
          0.00244668582785,
          2.79502e-9,
          3.2796384693691896,
          3.6057e-10,
          0.00136811071049,
          1.338751e-7,
          2.59622e-7,
          0.00039563290185000004,
          0.00207177463418,
          1.5695e-10,
          2.6295071e-7,
          0.25687380749799,
          4.9150808e-7,
          0.00069178673561,
          0.00135750143392,
          6.775e-11
         ]
        }
       ],
       "layout": {
        "coloraxis": {
         "colorbar": {
          "title": {
           "text": "Mrd. EUR"
          }
         },
         "colorscale": [
          [
           0,
           "rgb(36, 86, 104)"
          ],
          [
           0.16666666666666666,
           "rgb(15, 114, 121)"
          ],
          [
           0.3333333333333333,
           "rgb(13, 143, 129)"
          ],
          [
           0.5,
           "rgb(57, 171, 126)"
          ],
          [
           0.6666666666666666,
           "rgb(110, 197, 116)"
          ],
          [
           0.8333333333333334,
           "rgb(169, 220, 103)"
          ],
          [
           1,
           "rgb(237, 239, 93)"
          ]
         ]
        },
        "height": 1200,
        "legend": {
         "tracegroupgap": 0
        },
        "template": {
         "data": {
          "bar": [
           {
            "error_x": {
             "color": "#2a3f5f"
            },
            "error_y": {
             "color": "#2a3f5f"
            },
            "marker": {
             "line": {
              "color": "#E5ECF6",
              "width": 0.5
             },
             "pattern": {
              "fillmode": "overlay",
              "size": 10,
              "solidity": 0.2
             }
            },
            "type": "bar"
           }
          ],
          "barpolar": [
           {
            "marker": {
             "line": {
              "color": "#E5ECF6",
              "width": 0.5
             },
             "pattern": {
              "fillmode": "overlay",
              "size": 10,
              "solidity": 0.2
             }
            },
            "type": "barpolar"
           }
          ],
          "carpet": [
           {
            "aaxis": {
             "endlinecolor": "#2a3f5f",
             "gridcolor": "white",
             "linecolor": "white",
             "minorgridcolor": "white",
             "startlinecolor": "#2a3f5f"
            },
            "baxis": {
             "endlinecolor": "#2a3f5f",
             "gridcolor": "white",
             "linecolor": "white",
             "minorgridcolor": "white",
             "startlinecolor": "#2a3f5f"
            },
            "type": "carpet"
           }
          ],
          "choropleth": [
           {
            "colorbar": {
             "outlinewidth": 0,
             "ticks": ""
            },
            "type": "choropleth"
           }
          ],
          "contour": [
           {
            "colorbar": {
             "outlinewidth": 0,
             "ticks": ""
            },
            "colorscale": [
             [
              0,
              "#0d0887"
             ],
             [
              0.1111111111111111,
              "#46039f"
             ],
             [
              0.2222222222222222,
              "#7201a8"
             ],
             [
              0.3333333333333333,
              "#9c179e"
             ],
             [
              0.4444444444444444,
              "#bd3786"
             ],
             [
              0.5555555555555556,
              "#d8576b"
             ],
             [
              0.6666666666666666,
              "#ed7953"
             ],
             [
              0.7777777777777778,
              "#fb9f3a"
             ],
             [
              0.8888888888888888,
              "#fdca26"
             ],
             [
              1,
              "#f0f921"
             ]
            ],
            "type": "contour"
           }
          ],
          "contourcarpet": [
           {
            "colorbar": {
             "outlinewidth": 0,
             "ticks": ""
            },
            "type": "contourcarpet"
           }
          ],
          "heatmap": [
           {
            "colorbar": {
             "outlinewidth": 0,
             "ticks": ""
            },
            "colorscale": [
             [
              0,
              "#0d0887"
             ],
             [
              0.1111111111111111,
              "#46039f"
             ],
             [
              0.2222222222222222,
              "#7201a8"
             ],
             [
              0.3333333333333333,
              "#9c179e"
             ],
             [
              0.4444444444444444,
              "#bd3786"
             ],
             [
              0.5555555555555556,
              "#d8576b"
             ],
             [
              0.6666666666666666,
              "#ed7953"
             ],
             [
              0.7777777777777778,
              "#fb9f3a"
             ],
             [
              0.8888888888888888,
              "#fdca26"
             ],
             [
              1,
              "#f0f921"
             ]
            ],
            "type": "heatmap"
           }
          ],
          "heatmapgl": [
           {
            "colorbar": {
             "outlinewidth": 0,
             "ticks": ""
            },
            "colorscale": [
             [
              0,
              "#0d0887"
             ],
             [
              0.1111111111111111,
              "#46039f"
             ],
             [
              0.2222222222222222,
              "#7201a8"
             ],
             [
              0.3333333333333333,
              "#9c179e"
             ],
             [
              0.4444444444444444,
              "#bd3786"
             ],
             [
              0.5555555555555556,
              "#d8576b"
             ],
             [
              0.6666666666666666,
              "#ed7953"
             ],
             [
              0.7777777777777778,
              "#fb9f3a"
             ],
             [
              0.8888888888888888,
              "#fdca26"
             ],
             [
              1,
              "#f0f921"
             ]
            ],
            "type": "heatmapgl"
           }
          ],
          "histogram": [
           {
            "marker": {
             "pattern": {
              "fillmode": "overlay",
              "size": 10,
              "solidity": 0.2
             }
            },
            "type": "histogram"
           }
          ],
          "histogram2d": [
           {
            "colorbar": {
             "outlinewidth": 0,
             "ticks": ""
            },
            "colorscale": [
             [
              0,
              "#0d0887"
             ],
             [
              0.1111111111111111,
              "#46039f"
             ],
             [
              0.2222222222222222,
              "#7201a8"
             ],
             [
              0.3333333333333333,
              "#9c179e"
             ],
             [
              0.4444444444444444,
              "#bd3786"
             ],
             [
              0.5555555555555556,
              "#d8576b"
             ],
             [
              0.6666666666666666,
              "#ed7953"
             ],
             [
              0.7777777777777778,
              "#fb9f3a"
             ],
             [
              0.8888888888888888,
              "#fdca26"
             ],
             [
              1,
              "#f0f921"
             ]
            ],
            "type": "histogram2d"
           }
          ],
          "histogram2dcontour": [
           {
            "colorbar": {
             "outlinewidth": 0,
             "ticks": ""
            },
            "colorscale": [
             [
              0,
              "#0d0887"
             ],
             [
              0.1111111111111111,
              "#46039f"
             ],
             [
              0.2222222222222222,
              "#7201a8"
             ],
             [
              0.3333333333333333,
              "#9c179e"
             ],
             [
              0.4444444444444444,
              "#bd3786"
             ],
             [
              0.5555555555555556,
              "#d8576b"
             ],
             [
              0.6666666666666666,
              "#ed7953"
             ],
             [
              0.7777777777777778,
              "#fb9f3a"
             ],
             [
              0.8888888888888888,
              "#fdca26"
             ],
             [
              1,
              "#f0f921"
             ]
            ],
            "type": "histogram2dcontour"
           }
          ],
          "mesh3d": [
           {
            "colorbar": {
             "outlinewidth": 0,
             "ticks": ""
            },
            "type": "mesh3d"
           }
          ],
          "parcoords": [
           {
            "line": {
             "colorbar": {
              "outlinewidth": 0,
              "ticks": ""
             }
            },
            "type": "parcoords"
           }
          ],
          "pie": [
           {
            "automargin": true,
            "type": "pie"
           }
          ],
          "scatter": [
           {
            "fillpattern": {
             "fillmode": "overlay",
             "size": 10,
             "solidity": 0.2
            },
            "type": "scatter"
           }
          ],
          "scatter3d": [
           {
            "line": {
             "colorbar": {
              "outlinewidth": 0,
              "ticks": ""
             }
            },
            "marker": {
             "colorbar": {
              "outlinewidth": 0,
              "ticks": ""
             }
            },
            "type": "scatter3d"
           }
          ],
          "scattercarpet": [
           {
            "marker": {
             "colorbar": {
              "outlinewidth": 0,
              "ticks": ""
             }
            },
            "type": "scattercarpet"
           }
          ],
          "scattergeo": [
           {
            "marker": {
             "colorbar": {
              "outlinewidth": 0,
              "ticks": ""
             }
            },
            "type": "scattergeo"
           }
          ],
          "scattergl": [
           {
            "marker": {
             "colorbar": {
              "outlinewidth": 0,
              "ticks": ""
             }
            },
            "type": "scattergl"
           }
          ],
          "scattermapbox": [
           {
            "marker": {
             "colorbar": {
              "outlinewidth": 0,
              "ticks": ""
             }
            },
            "type": "scattermapbox"
           }
          ],
          "scatterpolar": [
           {
            "marker": {
             "colorbar": {
              "outlinewidth": 0,
              "ticks": ""
             }
            },
            "type": "scatterpolar"
           }
          ],
          "scatterpolargl": [
           {
            "marker": {
             "colorbar": {
              "outlinewidth": 0,
              "ticks": ""
             }
            },
            "type": "scatterpolargl"
           }
          ],
          "scatterternary": [
           {
            "marker": {
             "colorbar": {
              "outlinewidth": 0,
              "ticks": ""
             }
            },
            "type": "scatterternary"
           }
          ],
          "surface": [
           {
            "colorbar": {
             "outlinewidth": 0,
             "ticks": ""
            },
            "colorscale": [
             [
              0,
              "#0d0887"
             ],
             [
              0.1111111111111111,
              "#46039f"
             ],
             [
              0.2222222222222222,
              "#7201a8"
             ],
             [
              0.3333333333333333,
              "#9c179e"
             ],
             [
              0.4444444444444444,
              "#bd3786"
             ],
             [
              0.5555555555555556,
              "#d8576b"
             ],
             [
              0.6666666666666666,
              "#ed7953"
             ],
             [
              0.7777777777777778,
              "#fb9f3a"
             ],
             [
              0.8888888888888888,
              "#fdca26"
             ],
             [
              1,
              "#f0f921"
             ]
            ],
            "type": "surface"
           }
          ],
          "table": [
           {
            "cells": {
             "fill": {
              "color": "#EBF0F8"
             },
             "line": {
              "color": "white"
             }
            },
            "header": {
             "fill": {
              "color": "#C8D4E3"
             },
             "line": {
              "color": "white"
             }
            },
            "type": "table"
           }
          ]
         },
         "layout": {
          "annotationdefaults": {
           "arrowcolor": "#2a3f5f",
           "arrowhead": 0,
           "arrowwidth": 1
          },
          "autotypenumbers": "strict",
          "coloraxis": {
           "colorbar": {
            "outlinewidth": 0,
            "ticks": ""
           }
          },
          "colorscale": {
           "diverging": [
            [
             0,
             "#8e0152"
            ],
            [
             0.1,
             "#c51b7d"
            ],
            [
             0.2,
             "#de77ae"
            ],
            [
             0.3,
             "#f1b6da"
            ],
            [
             0.4,
             "#fde0ef"
            ],
            [
             0.5,
             "#f7f7f7"
            ],
            [
             0.6,
             "#e6f5d0"
            ],
            [
             0.7,
             "#b8e186"
            ],
            [
             0.8,
             "#7fbc41"
            ],
            [
             0.9,
             "#4d9221"
            ],
            [
             1,
             "#276419"
            ]
           ],
           "sequential": [
            [
             0,
             "#0d0887"
            ],
            [
             0.1111111111111111,
             "#46039f"
            ],
            [
             0.2222222222222222,
             "#7201a8"
            ],
            [
             0.3333333333333333,
             "#9c179e"
            ],
            [
             0.4444444444444444,
             "#bd3786"
            ],
            [
             0.5555555555555556,
             "#d8576b"
            ],
            [
             0.6666666666666666,
             "#ed7953"
            ],
            [
             0.7777777777777778,
             "#fb9f3a"
            ],
            [
             0.8888888888888888,
             "#fdca26"
            ],
            [
             1,
             "#f0f921"
            ]
           ],
           "sequentialminus": [
            [
             0,
             "#0d0887"
            ],
            [
             0.1111111111111111,
             "#46039f"
            ],
            [
             0.2222222222222222,
             "#7201a8"
            ],
            [
             0.3333333333333333,
             "#9c179e"
            ],
            [
             0.4444444444444444,
             "#bd3786"
            ],
            [
             0.5555555555555556,
             "#d8576b"
            ],
            [
             0.6666666666666666,
             "#ed7953"
            ],
            [
             0.7777777777777778,
             "#fb9f3a"
            ],
            [
             0.8888888888888888,
             "#fdca26"
            ],
            [
             1,
             "#f0f921"
            ]
           ]
          },
          "colorway": [
           "#636efa",
           "#EF553B",
           "#00cc96",
           "#ab63fa",
           "#FFA15A",
           "#19d3f3",
           "#FF6692",
           "#B6E880",
           "#FF97FF",
           "#FECB52"
          ],
          "font": {
           "color": "#2a3f5f"
          },
          "geo": {
           "bgcolor": "white",
           "lakecolor": "white",
           "landcolor": "#E5ECF6",
           "showlakes": true,
           "showland": true,
           "subunitcolor": "white"
          },
          "hoverlabel": {
           "align": "left"
          },
          "hovermode": "closest",
          "mapbox": {
           "style": "light"
          },
          "paper_bgcolor": "white",
          "plot_bgcolor": "#E5ECF6",
          "polar": {
           "angularaxis": {
            "gridcolor": "white",
            "linecolor": "white",
            "ticks": ""
           },
           "bgcolor": "#E5ECF6",
           "radialaxis": {
            "gridcolor": "white",
            "linecolor": "white",
            "ticks": ""
           }
          },
          "scene": {
           "xaxis": {
            "backgroundcolor": "#E5ECF6",
            "gridcolor": "white",
            "gridwidth": 2,
            "linecolor": "white",
            "showbackground": true,
            "ticks": "",
            "zerolinecolor": "white"
           },
           "yaxis": {
            "backgroundcolor": "#E5ECF6",
            "gridcolor": "white",
            "gridwidth": 2,
            "linecolor": "white",
            "showbackground": true,
            "ticks": "",
            "zerolinecolor": "white"
           },
           "zaxis": {
            "backgroundcolor": "#E5ECF6",
            "gridcolor": "white",
            "gridwidth": 2,
            "linecolor": "white",
            "showbackground": true,
            "ticks": "",
            "zerolinecolor": "white"
           }
          },
          "shapedefaults": {
           "line": {
            "color": "#2a3f5f"
           }
          },
          "ternary": {
           "aaxis": {
            "gridcolor": "white",
            "linecolor": "white",
            "ticks": ""
           },
           "baxis": {
            "gridcolor": "white",
            "linecolor": "white",
            "ticks": ""
           },
           "bgcolor": "#E5ECF6",
           "caxis": {
            "gridcolor": "white",
            "linecolor": "white",
            "ticks": ""
           }
          },
          "title": {
           "x": 0.05
          },
          "xaxis": {
           "automargin": true,
           "gridcolor": "white",
           "linecolor": "white",
           "ticks": "",
           "title": {
            "standoff": 15
           },
           "zerolinecolor": "white",
           "zerolinewidth": 2
          },
          "yaxis": {
           "automargin": true,
           "gridcolor": "white",
           "linecolor": "white",
           "ticks": "",
           "title": {
            "standoff": 15
           },
           "zerolinecolor": "white",
           "zerolinewidth": 2
          }
         }
        },
        "title": {
         "text": "Carrier Value Treemap"
        },
        "width": 1600
       }
      }
     },
     "metadata": {},
     "output_type": "display_data"
    },
    {
     "name": "stdout",
     "output_type": "stream",
     "text": [
      "['BEV charger', 'DAC', 'DC', 'Fischer-Tropsch', 'H2 Electrolysis', 'H2 Fuel Cell', 'H2 pipeline', 'H2 turbine', 'Offshore Wind (AC)', 'Offshore Wind (DC)', 'Offshore Wind (Floating)', 'Onshore Wind', 'Open-Cycle Gas', 'Pumped Hydro Storage', 'SMR', 'SMR CC', 'Sabatier', 'Solar', 'V2G', 'agriculture machinery oil', 'biogas', 'biogas to gas', 'co2 sequestered', 'coal for industry', 'electricity distribution grid', 'gas', 'gas for industry', 'gas for industry CC', 'gas pipeline', 'gas pipeline new', 'geothermal district heat', 'geothermal heat', 'geothermal organic rankine cycle', 'h2 import', 'industry methanol', 'kerosene for aviation', 'land transport oil', 'methanolisation', 'naphtha for industry', 'rural biomass boiler', 'rural gas boiler', 'rural resistive heater', 'rural solar thermal', 'shipping methanol', 'shipping oil', 'solar rooftop', 'solar-hsat', 'solid biomass', 'solid biomass for industry', 'solid biomass for industry CC', 'urban central CHP', 'urban central CHP CC', 'urban central gas boiler', 'urban central resistive heater', 'urban central solar thermal', 'urban central solid biomass CHP', 'urban central solid biomass CHP CC', 'urban decentral biomass boiler', 'urban decentral gas boiler', 'urban decentral resistive heater', 'urban decentral solar thermal']\n"
     ]
    }
   ],
   "source": [
    "import myUtils as utils\n",
    "import plotly.express as px\n",
    "import importlib\n",
    "importlib.reload(utils)\n",
    "\n",
    "s = nBase.statistics.opex(groupby=[\"carrier\",\"de_grouper\"]).groupby('carrier').sum() / 1e9\n",
    "# print(s.sum())\n",
    "# df = s.to_frame('value')\n",
    "\n",
    "# print(df)\n",
    "# # print(utils.dataframe_to_table(df))\n",
    "\n",
    "# s.rename(index={\n",
    "#   \"AC\": \"AC<br>Leitung\",\n",
    "#   \"DAC\": \"DAC\",\n",
    "#   \"DC\": \"DC<br>Leitung\",\n",
    "#   \"Fischer-Tropsch\": \"Fischer<br>Tropsch\",\n",
    "#   \"H2 Electrolysis\": \"H2<br>Elektrolyse\",\n",
    "#   \"H2 Store\": \"H2<br>Speicher\",\n",
    "#   \"H2 pipeline\": \"H2<br>Pipeline\",\n",
    "#   \"Offshore Wind (AC)\": \"Offshore-<br>Wind (AC)\",\n",
    "#   \"Offshore Wind (DC)\": \"Offshore-Wind (DC)\",\n",
    "#   \"Offshore Wind (Floating)\": \"Schwimmende<br>Offshore-Windkraft\",\n",
    "#   \"Onshore Wind\": \"Onshore-Wind\",\n",
    "#   \"Open-Cycle Gas\": \"OCGT\",\n",
    "#   \"SMR\": \"Dampfreformierung\",\n",
    "#   \"SMR CC\": \"Dampfreformierung mit Kohlendioxidgewinnung\",\n",
    "#   \"Sabatier\": \"Sabatier-Prozess\",\n",
    "#   \"Solar\": \"Solar\",\n",
    "#   \"co2 sequestered\": \"CO2 <br>Abs-<br>cheid\",\n",
    "#   \"co2 stored\": \"CO2 <br>gespeichert\",\n",
    "#   \"electricity distribution grid\": \"Stromverteilungs<br>netz\",\n",
    "#   \"gas\": \"Gas\",\n",
    "#   \"gas for industry CC\": \"Gas <br>Industrie\",\n",
    "#   \"gas pipeline\": \"Gaspipeline\",\n",
    "#   \"gas pipeline new\": \"Neue Gaspipeline\",\n",
    "#   \"methanolisation\": \"Methanolisierung\",\n",
    "#   \"rural air heat pump\": \"Ländliche<br>Luftwärmepumpe\",\n",
    "#   \"rural gas boiler\": \"Ländlicher<br>Gaskessel\",\n",
    "#   \"rural ground heat pump\": \"Ländliche<br>Erdwärmepumpe\",\n",
    "#   \"rural resistive heater\": \"Ländlicher Widerstandsheizgerät\",\n",
    "#   \"rural solar thermal\": \"Ländliche Solarthermie\",\n",
    "#   \"solar rooftop\": \"Solar auf dem Dach\",\n",
    "#   \"solar-hsat\": \"Solar-HSAT\",\n",
    "#   \"solid biomass for industry CC\": \" Biomasse für <br>die Industrie\",\n",
    "#   \"urban central CHP\": \"Zentrales CHP\",\n",
    "#   \"urban central CHP CC\": \"Zentrales CHP mit CC\",\n",
    "#   \"urban central air heat pump\": \"Zentrale<br>Luftwärmepumpe<br>für Städte\",\n",
    "#   \"urban central gas boiler\": \"Zentraler Gaskessel für Städte\",\n",
    "#   \"urban central resistive heater\": \"Zentraler Widerstandsheizgerät<br>fürStädte\",\n",
    "#   \"urban central solar thermal\": \"Zentrale Solarthermie<br>für Städte\",\n",
    "#   \"urban decentral air heat pump\": \"Dezentrale<br>Luftwärmepumpe<br>für Städte\",\n",
    "#   \"urban decentral gas boiler\": \"Dezentraler<br>Gaskessel<br>für Städte\",\n",
    "#   \"urban decentral resistive heater\": \"Dezentraler<br>Widerstandsheizgerät für<br>Städte\",\n",
    "#   \"urban decentral solar thermal\": \"Dezentrale<br>Solarthermie für<br>Städte\"\n",
    "# }\n",
    "# , inplace=True)\n",
    "\n",
    "\n",
    "df = s.reset_index()\n",
    "\n",
    "\n",
    "df.columns = ['carrier', 'Mrd. EUR']\n",
    "\n",
    "\n",
    "fig = px.treemap(df, path=['carrier'], values='Mrd. EUR', title='Carrier Value Treemap'\n",
    "                 , color=\"Mrd. EUR\"\n",
    "                #  , pathbar_textfont_size=15\n",
    "\n",
    "                 ,color_continuous_scale=px.colors.sequential.Aggrnyl )\n",
    "\n",
    "fig.update_layout(\n",
    "    # uniformtext=dict(minsize=20, mode=\"show\"),\n",
    "\n",
    "    width=1600,  # 设置图表宽度\n",
    "    height=1200, # 设置图表高度\n",
    "    # paper_bgcolor= 'white',\n",
    "    # plot_bgcolor = 'white',\n",
    ")\n",
    "# 显示图形\n",
    "fig.show()\n",
    "\n",
    "print(list(s.index))\n"
   ]
  },
  {
   "cell_type": "code",
   "execution_count": 6,
   "metadata": {},
   "outputs": [
    {
     "data": {
      "image/png": "[encoded data removed]",
      "text/plain": [
       "<Figure size 640x480 with 1 Axes>"
      ]
     },
     "metadata": {},
     "output_type": "display_data"
    }
   ],
   "source": [
    "import matplotlib.pyplot as plt\n",
    "import squarify\n",
    "\n",
    "# 数据：每个方块的大小\n",
    "sizes = [500, 300, 200, 100, 50]\n",
    "\n",
    "# 创建颜色列表\n",
    "colors = ['#FF6347', '#FFD700', '#ADFF2F', '#7FFFD4', '#4682B4']\n",
    "\n",
    "# 绘制树状图\n",
    "squarify.plot(sizes=sizes, color=colors, label=[\"A\", \"B\", \"C\", \"D\", \"E\"], alpha=.7)\n",
    "\n",
    "# 去除坐标轴\n",
    "plt.axis('off')\n",
    "\n",
    "# 显示图形\n",
    "plt.show()"
   ]
  }
 ],
 "metadata": {
  "kernelspec": {
   "display_name": "pypsa-eur",
   "language": "python",
   "name": "python3"
  },
  "language_info": {
   "codemirror_mode": {
    "name": "ipython",
    "version": 3
   },
   "file_extension": ".py",
   "mimetype": "text/x-python",
   "name": "python",
   "nbconvert_exporter": "python",
   "pygments_lexer": "ipython3",
   "version": "3.12.8"
  }
 },
 "nbformat": 4,
 "nbformat_minor": 2
}
