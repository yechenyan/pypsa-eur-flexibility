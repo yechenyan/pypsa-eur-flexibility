{
 "cells": [
  {
   "cell_type": "code",
   "execution_count": 2,
   "metadata": {},
   "outputs": [
    {
     "name": "stderr",
     "output_type": "stream",
     "text": [
      "INFO:pypsa.io:Imported network base_s_27_3H_3H_2045.nc has buses, carriers, generators, global_constraints, lines, links, loads, storage_units, stores\n"
     ]
    }
   ],
   "source": [
    "import pypsa\n",
    "import matplotlib.pyplot as plt\n",
    "import pandas as pd\n",
    "import myUtils as utils\n",
    "\n",
    "pathTail = \"/networks/base_s_27_3H_3H_2045.nc\"\n",
    "\n",
    "\n",
    "\n",
    "plt.style.use('bmh')\n",
    "%matplotlib inline\n",
    "\n",
    "nBase = pypsa.Network(f\"../../results/scenario/base{pathTail}\")\n",
    "\n"
   ]
  },
  {
   "cell_type": "code",
   "execution_count": 11,
   "metadata": {},
   "outputs": [
    {
     "name": "stderr",
     "output_type": "stream",
     "text": [
      "/opt/anaconda3/envs/pypsa-eur/lib/python3.12/site-packages/squarify/__init__.py:231: MatplotlibDeprecationWarning: The get_cmap function was deprecated in Matplotlib 3.7 and will be removed in 3.11. Use ``matplotlib.colormaps[name]`` or ``matplotlib.colormaps.get_cmap()`` or ``pyplot.get_cmap()`` instead.\n",
      "  cmap = matplotlib.cm.get_cmap()\n"
     ]
    },
    {
     "data": {
      "image/png": "[encoded data removed]",
      "text/plain": [
       "<Figure size 640x480 with 1 Axes>"
      ]
     },
     "metadata": {},
     "output_type": "display_data"
    }
   ],
   "source": [
    "import myUtils as utils\n",
    "import importlib\n",
    "importlib.reload(utils)\n",
    "\n",
    "s = nBase.statistics.capex(groupby=[\"carrier\",\"de_grouper\"]).groupby('carrier').sum()\n",
    "# print(s.sum())\n",
    "# df = s.to_frame('value')\n",
    "\n",
    "# print(df)\n",
    "# # print(utils.dataframe_to_table(df))\n",
    "\n",
    "squarify.plot(sizes=s.values,  alpha=.8,)\n",
    "plt.axis('off')  # 去掉坐标轴\n",
    "plt.title('Carrier Value Treemap')  # 设置标题\n",
    "plt.show()"
   ]
  },
  {
   "cell_type": "code",
   "execution_count": 112,
   "metadata": {},
   "outputs": [
    {
     "data": {
      "application/vnd.plotly.v1+json": {
       "config": {
        "plotlyServerURL": "https://plot.ly"
       },
       "data": [
        {
         "branchvalues": "total",
         "customdata": [
          [
           1.5640297919191801
          ],
          [
           0.6456800608043599
          ],
          [
           0.04070462719870999
          ],
          [
           1.99009167043978
          ],
          [
           7.86545159608547
          ],
          [
           0.35283070949313
          ],
          [
           0.11122268230815001
          ],
          [
           2.4007000205815303
          ],
          [
           14.415486834078099
          ],
          [
           0.12596669001234
          ],
          [
           9.05433308503474
          ],
          [
           1.4387700720071004
          ],
          [
           0.0000027253798100000004
          ],
          [
           0.000002821471349999999
          ],
          [
           0.00017437608687999998
          ],
          [
           2.2544289262136896
          ],
          [
           0.37381047200483997
          ],
          [
           0.005356555667199999
          ],
          [
           4.37097512309519
          ],
          [
           0.97566926073296
          ],
          [
           0.4379021398183
          ],
          [
           0.29872144271972
          ],
          [
           0.000004360528490000001
          ],
          [
           0.00001189080561
          ],
          [
           0.00000815954304
          ],
          [
           1.37267885171497
          ],
          [
           4.29448275415475
          ],
          [
           0.08843542931738
          ],
          [
           0.00000128458996
          ],
          [
           3.93125353518298
          ],
          [
           0.00001193582956
          ],
          [
           1.32649862587663
          ],
          [
           1.7542863298878901
          ],
          [
           0.00000611671885
          ],
          [
           4.04079255560976
          ],
          [
           0.41958928101216
          ],
          [
           0.04863382910864001
          ],
          [
           0.00000151042971
          ],
          [
           5.06372812471257
          ],
          [
           3.6599399257344802
          ],
          [
           0.20234542143372
          ],
          [
           0.0000014454859099999999
          ]
         ],
         "domain": {
          "x": [
           0,
           1
          ],
          "y": [
           0,
           1
          ]
         },
         "hovertemplate": "labels=%{label}<br>Mrd. EUR_sum=%{value}<br>parent=%{parent}<br>id=%{id}<br>Mrd. EUR=%{color}<extra></extra>",
         "ids": [
          "AC",
          "DAC",
          "DC",
          "Fischer-Tropsch",
          "H2 Electrolysis",
          "H2 Store",
          "H2 pipeline",
          "Offshore Wind (AC)",
          "Offshore Wind (DC)",
          "Offshore Wind (Floating)",
          "Onshore Wind",
          "Open-Cycle Gas",
          "SMR",
          "SMR CC",
          "Sabatier",
          "Solar",
          "co2 sequestered",
          "co2 stored",
          "electricity distribution grid",
          "gas",
          "gas for industry CC",
          "gas pipeline",
          "gas pipeline new",
          "methanolisation",
          "rural air heat pump",
          "rural gas boiler",
          "rural ground heat pump",
          "rural resistive heater",
          "rural solar thermal",
          "solar rooftop",
          "solar-hsat",
          "solid biomass for industry CC",
          "urban central CHP",
          "urban central CHP CC",
          "urban central air heat pump",
          "urban central gas boiler",
          "urban central resistive heater",
          "urban central solar thermal",
          "urban decentral air heat pump",
          "urban decentral gas boiler",
          "urban decentral resistive heater",
          "urban decentral solar thermal"
         ],
         "labels": [
          "AC",
          "DAC",
          "DC",
          "Fischer-Tropsch",
          "H2 Electrolysis",
          "H2 Store",
          "H2 pipeline",
          "Offshore Wind (AC)",
          "Offshore Wind (DC)",
          "Offshore Wind (Floating)",
          "Onshore Wind",
          "Open-Cycle Gas",
          "SMR",
          "SMR CC",
          "Sabatier",
          "Solar",
          "co2 sequestered",
          "co2 stored",
          "electricity distribution grid",
          "gas",
          "gas for industry CC",
          "gas pipeline",
          "gas pipeline new",
          "methanolisation",
          "rural air heat pump",
          "rural gas boiler",
          "rural ground heat pump",
          "rural resistive heater",
          "rural solar thermal",
          "solar rooftop",
          "solar-hsat",
          "solid biomass for industry CC",
          "urban central CHP",
          "urban central CHP CC",
          "urban central air heat pump",
          "urban central gas boiler",
          "urban central resistive heater",
          "urban central solar thermal",
          "urban decentral air heat pump",
          "urban decentral gas boiler",
          "urban decentral resistive heater",
          "urban decentral solar thermal"
         ],
         "marker": {
          "coloraxis": "coloraxis",
          "colors": [
           1.5640297919191801,
           0.6456800608043599,
           0.04070462719870999,
           1.99009167043978,
           7.86545159608547,
           0.35283070949313,
           0.11122268230815001,
           2.4007000205815303,
           14.415486834078099,
           0.12596669001234,
           9.05433308503474,
           1.4387700720071004,
           0.0000027253798100000004,
           0.000002821471349999999,
           0.00017437608687999998,
           2.2544289262136896,
           0.37381047200483997,
           0.005356555667199999,
           4.37097512309519,
           0.97566926073296,
           0.4379021398183,
           0.29872144271972,
           0.000004360528490000001,
           0.00001189080561,
           0.00000815954304,
           1.37267885171497,
           4.29448275415475,
           0.08843542931738,
           0.00000128458996,
           3.93125353518298,
           0.00001193582956,
           1.32649862587663,
           1.7542863298878901,
           0.00000611671885,
           4.04079255560976,
           0.41958928101216,
           0.04863382910864001,
           0.00000151042971,
           5.06372812471257,
           3.6599399257344802,
           0.20234542143372,
           0.0000014454859099999999
          ]
         },
         "name": "",
         "parents": [
          "",
          "",
          "",
          "",
          "",
          "",
          "",
          "",
          "",
          "",
          "",
          "",
          "",
          "",
          "",
          "",
          "",
          "",
          "",
          "",
          "",
          "",
          "",
          "",
          "",
          "",
          "",
          "",
          "",
          "",
          "",
          "",
          "",
          "",
          "",
          "",
          "",
          "",
          "",
          "",
          "",
          ""
         ],
         "type": "treemap",
         "values": [
          1.5640297919191801,
          0.6456800608043599,
          0.04070462719870999,
          1.99009167043978,
          7.86545159608547,
          0.35283070949313,
          0.11122268230815001,
          2.4007000205815303,
          14.415486834078099,
          0.12596669001234,
          9.05433308503474,
          1.4387700720071002,
          0.00000272537981,
          0.0000028214713499999996,
          0.00017437608687999998,
          2.2544289262136896,
          0.37381047200484,
          0.005356555667199999,
          4.37097512309519,
          0.97566926073296,
          0.4379021398183,
          0.29872144271972,
          0.000004360528490000001,
          0.00001189080561,
          0.00000815954304,
          1.37267885171497,
          4.29448275415475,
          0.08843542931738,
          0.00000128458996,
          3.93125353518298,
          0.00001193582956,
          1.32649862587663,
          1.7542863298878901,
          0.00000611671885,
          4.04079255560976,
          0.41958928101216,
          0.04863382910864,
          0.00000151042971,
          5.06372812471257,
          3.65993992573448,
          0.20234542143372,
          0.00000144548591
         ]
        }
       ],
       "layout": {
        "coloraxis": {
         "colorbar": {
          "title": {
           "text": "Mrd. EUR"
          }
         },
         "colorscale": [
          [
           0,
           "rgb(36, 86, 104)"
          ],
          [
           0.16666666666666666,
           "rgb(15, 114, 121)"
          ],
          [
           0.3333333333333333,
           "rgb(13, 143, 129)"
          ],
          [
           0.5,
           "rgb(57, 171, 126)"
          ],
          [
           0.6666666666666666,
           "rgb(110, 197, 116)"
          ],
          [
           0.8333333333333334,
           "rgb(169, 220, 103)"
          ],
          [
           1,
           "rgb(237, 239, 93)"
          ]
         ]
        },
        "height": 1200,
        "legend": {
         "tracegroupgap": 0
        },
        "template": {
         "data": {
          "bar": [
           {
            "error_x": {
             "color": "#2a3f5f"
            },
            "error_y": {
             "color": "#2a3f5f"
            },
            "marker": {
             "line": {
              "color": "#E5ECF6",
              "width": 0.5
             },
             "pattern": {
              "fillmode": "overlay",
              "size": 10,
              "solidity": 0.2
             }
            },
            "type": "bar"
           }
          ],
          "barpolar": [
           {
            "marker": {
             "line": {
              "color": "#E5ECF6",
              "width": 0.5
             },
             "pattern": {
              "fillmode": "overlay",
              "size": 10,
              "solidity": 0.2
             }
            },
            "type": "barpolar"
           }
          ],
          "carpet": [
           {
            "aaxis": {
             "endlinecolor": "#2a3f5f",
             "gridcolor": "white",
             "linecolor": "white",
             "minorgridcolor": "white",
             "startlinecolor": "#2a3f5f"
            },
            "baxis": {
             "endlinecolor": "#2a3f5f",
             "gridcolor": "white",
             "linecolor": "white",
             "minorgridcolor": "white",
             "startlinecolor": "#2a3f5f"
            },
            "type": "carpet"
           }
          ],
          "choropleth": [
           {
            "colorbar": {
             "outlinewidth": 0,
             "ticks": ""
            },
            "type": "choropleth"
           }
          ],
          "contour": [
           {
            "colorbar": {
             "outlinewidth": 0,
             "ticks": ""
            },
            "colorscale": [
             [
              0,
              "#0d0887"
             ],
             [
              0.1111111111111111,
              "#46039f"
             ],
             [
              0.2222222222222222,
              "#7201a8"
             ],
             [
              0.3333333333333333,
              "#9c179e"
             ],
             [
              0.4444444444444444,
              "#bd3786"
             ],
             [
              0.5555555555555556,
              "#d8576b"
             ],
             [
              0.6666666666666666,
              "#ed7953"
             ],
             [
              0.7777777777777778,
              "#fb9f3a"
             ],
             [
              0.8888888888888888,
              "#fdca26"
             ],
             [
              1,
              "#f0f921"
             ]
            ],
            "type": "contour"
           }
          ],
          "contourcarpet": [
           {
            "colorbar": {
             "outlinewidth": 0,
             "ticks": ""
            },
            "type": "contourcarpet"
           }
          ],
          "heatmap": [
           {
            "colorbar": {
             "outlinewidth": 0,
             "ticks": ""
            },
            "colorscale": [
             [
              0,
              "#0d0887"
             ],
             [
              0.1111111111111111,
              "#46039f"
             ],
             [
              0.2222222222222222,
              "#7201a8"
             ],
             [
              0.3333333333333333,
              "#9c179e"
             ],
             [
              0.4444444444444444,
              "#bd3786"
             ],
             [
              0.5555555555555556,
              "#d8576b"
             ],
             [
              0.6666666666666666,
              "#ed7953"
             ],
             [
              0.7777777777777778,
              "#fb9f3a"
             ],
             [
              0.8888888888888888,
              "#fdca26"
             ],
             [
              1,
              "#f0f921"
             ]
            ],
            "type": "heatmap"
           }
          ],
          "heatmapgl": [
           {
            "colorbar": {
             "outlinewidth": 0,
             "ticks": ""
            },
            "colorscale": [
             [
              0,
              "#0d0887"
             ],
             [
              0.1111111111111111,
              "#46039f"
             ],
             [
              0.2222222222222222,
              "#7201a8"
             ],
             [
              0.3333333333333333,
              "#9c179e"
             ],
             [
              0.4444444444444444,
              "#bd3786"
             ],
             [
              0.5555555555555556,
              "#d8576b"
             ],
             [
              0.6666666666666666,
              "#ed7953"
             ],
             [
              0.7777777777777778,
              "#fb9f3a"
             ],
             [
              0.8888888888888888,
              "#fdca26"
             ],
             [
              1,
              "#f0f921"
             ]
            ],
            "type": "heatmapgl"
           }
          ],
          "histogram": [
           {
            "marker": {
             "pattern": {
              "fillmode": "overlay",
              "size": 10,
              "solidity": 0.2
             }
            },
            "type": "histogram"
           }
          ],
          "histogram2d": [
           {
            "colorbar": {
             "outlinewidth": 0,
             "ticks": ""
            },
            "colorscale": [
             [
              0,
              "#0d0887"
             ],
             [
              0.1111111111111111,
              "#46039f"
             ],
             [
              0.2222222222222222,
              "#7201a8"
             ],
             [
              0.3333333333333333,
              "#9c179e"
             ],
             [
              0.4444444444444444,
              "#bd3786"
             ],
             [
              0.5555555555555556,
              "#d8576b"
             ],
             [
              0.6666666666666666,
              "#ed7953"
             ],
             [
              0.7777777777777778,
              "#fb9f3a"
             ],
             [
              0.8888888888888888,
              "#fdca26"
             ],
             [
              1,
              "#f0f921"
             ]
            ],
            "type": "histogram2d"
           }
          ],
          "histogram2dcontour": [
           {
            "colorbar": {
             "outlinewidth": 0,
             "ticks": ""
            },
            "colorscale": [
             [
              0,
              "#0d0887"
             ],
             [
              0.1111111111111111,
              "#46039f"
             ],
             [
              0.2222222222222222,
              "#7201a8"
             ],
             [
              0.3333333333333333,
              "#9c179e"
             ],
             [
              0.4444444444444444,
              "#bd3786"
             ],
             [
              0.5555555555555556,
              "#d8576b"
             ],
             [
              0.6666666666666666,
              "#ed7953"
             ],
             [
              0.7777777777777778,
              "#fb9f3a"
             ],
             [
              0.8888888888888888,
              "#fdca26"
             ],
             [
              1,
              "#f0f921"
             ]
            ],
            "type": "histogram2dcontour"
           }
          ],
          "mesh3d": [
           {
            "colorbar": {
             "outlinewidth": 0,
             "ticks": ""
            },
            "type": "mesh3d"
           }
          ],
          "parcoords": [
           {
            "line": {
             "colorbar": {
              "outlinewidth": 0,
              "ticks": ""
             }
            },
            "type": "parcoords"
           }
          ],
          "pie": [
           {
            "automargin": true,
            "type": "pie"
           }
          ],
          "scatter": [
           {
            "fillpattern": {
             "fillmode": "overlay",
             "size": 10,
             "solidity": 0.2
            },
            "type": "scatter"
           }
          ],
          "scatter3d": [
           {
            "line": {
             "colorbar": {
              "outlinewidth": 0,
              "ticks": ""
             }
            },
            "marker": {
             "colorbar": {
              "outlinewidth": 0,
              "ticks": ""
             }
            },
            "type": "scatter3d"
           }
          ],
          "scattercarpet": [
           {
            "marker": {
             "colorbar": {
              "outlinewidth": 0,
              "ticks": ""
             }
            },
            "type": "scattercarpet"
           }
          ],
          "scattergeo": [
           {
            "marker": {
             "colorbar": {
              "outlinewidth": 0,
              "ticks": ""
             }
            },
            "type": "scattergeo"
           }
          ],
          "scattergl": [
           {
            "marker": {
             "colorbar": {
              "outlinewidth": 0,
              "ticks": ""
             }
            },
            "type": "scattergl"
           }
          ],
          "scattermapbox": [
           {
            "marker": {
             "colorbar": {
              "outlinewidth": 0,
              "ticks": ""
             }
            },
            "type": "scattermapbox"
           }
          ],
          "scatterpolar": [
           {
            "marker": {
             "colorbar": {
              "outlinewidth": 0,
              "ticks": ""
             }
            },
            "type": "scatterpolar"
           }
          ],
          "scatterpolargl": [
           {
            "marker": {
             "colorbar": {
              "outlinewidth": 0,
              "ticks": ""
             }
            },
            "type": "scatterpolargl"
           }
          ],
          "scatterternary": [
           {
            "marker": {
             "colorbar": {
              "outlinewidth": 0,
              "ticks": ""
             }
            },
            "type": "scatterternary"
           }
          ],
          "surface": [
           {
            "colorbar": {
             "outlinewidth": 0,
             "ticks": ""
            },
            "colorscale": [
             [
              0,
              "#0d0887"
             ],
             [
              0.1111111111111111,
              "#46039f"
             ],
             [
              0.2222222222222222,
              "#7201a8"
             ],
             [
              0.3333333333333333,
              "#9c179e"
             ],
             [
              0.4444444444444444,
              "#bd3786"
             ],
             [
              0.5555555555555556,
              "#d8576b"
             ],
             [
              0.6666666666666666,
              "#ed7953"
             ],
             [
              0.7777777777777778,
              "#fb9f3a"
             ],
             [
              0.8888888888888888,
              "#fdca26"
             ],
             [
              1,
              "#f0f921"
             ]
            ],
            "type": "surface"
           }
          ],
          "table": [
           {
            "cells": {
             "fill": {
              "color": "#EBF0F8"
             },
             "line": {
              "color": "white"
             }
            },
            "header": {
             "fill": {
              "color": "#C8D4E3"
             },
             "line": {
              "color": "white"
             }
            },
            "type": "table"
           }
          ]
         },
         "layout": {
          "annotationdefaults": {
           "arrowcolor": "#2a3f5f",
           "arrowhead": 0,
           "arrowwidth": 1
          },
          "autotypenumbers": "strict",
          "coloraxis": {
           "colorbar": {
            "outlinewidth": 0,
            "ticks": ""
           }
          },
          "colorscale": {
           "diverging": [
            [
             0,
             "#8e0152"
            ],
            [
             0.1,
             "#c51b7d"
            ],
            [
             0.2,
             "#de77ae"
            ],
            [
             0.3,
             "#f1b6da"
            ],
            [
             0.4,
             "#fde0ef"
            ],
            [
             0.5,
             "#f7f7f7"
            ],
            [
             0.6,
             "#e6f5d0"
            ],
            [
             0.7,
             "#b8e186"
            ],
            [
             0.8,
             "#7fbc41"
            ],
            [
             0.9,
             "#4d9221"
            ],
            [
             1,
             "#276419"
            ]
           ],
           "sequential": [
            [
             0,
             "#0d0887"
            ],
            [
             0.1111111111111111,
             "#46039f"
            ],
            [
             0.2222222222222222,
             "#7201a8"
            ],
            [
             0.3333333333333333,
             "#9c179e"
            ],
            [
             0.4444444444444444,
             "#bd3786"
            ],
            [
             0.5555555555555556,
             "#d8576b"
            ],
            [
             0.6666666666666666,
             "#ed7953"
            ],
            [
             0.7777777777777778,
             "#fb9f3a"
            ],
            [
             0.8888888888888888,
             "#fdca26"
            ],
            [
             1,
             "#f0f921"
            ]
           ],
           "sequentialminus": [
            [
             0,
             "#0d0887"
            ],
            [
             0.1111111111111111,
             "#46039f"
            ],
            [
             0.2222222222222222,
             "#7201a8"
            ],
            [
             0.3333333333333333,
             "#9c179e"
            ],
            [
             0.4444444444444444,
             "#bd3786"
            ],
            [
             0.5555555555555556,
             "#d8576b"
            ],
            [
             0.6666666666666666,
             "#ed7953"
            ],
            [
             0.7777777777777778,
             "#fb9f3a"
            ],
            [
             0.8888888888888888,
             "#fdca26"
            ],
            [
             1,
             "#f0f921"
            ]
           ]
          },
          "colorway": [
           "#636efa",
           "#EF553B",
           "#00cc96",
           "#ab63fa",
           "#FFA15A",
           "#19d3f3",
           "#FF6692",
           "#B6E880",
           "#FF97FF",
           "#FECB52"
          ],
          "font": {
           "color": "#2a3f5f"
          },
          "geo": {
           "bgcolor": "white",
           "lakecolor": "white",
           "landcolor": "#E5ECF6",
           "showlakes": true,
           "showland": true,
           "subunitcolor": "white"
          },
          "hoverlabel": {
           "align": "left"
          },
          "hovermode": "closest",
          "mapbox": {
           "style": "light"
          },
          "paper_bgcolor": "white",
          "plot_bgcolor": "#E5ECF6",
          "polar": {
           "angularaxis": {
            "gridcolor": "white",
            "linecolor": "white",
            "ticks": ""
           },
           "bgcolor": "#E5ECF6",
           "radialaxis": {
            "gridcolor": "white",
            "linecolor": "white",
            "ticks": ""
           }
          },
          "scene": {
           "xaxis": {
            "backgroundcolor": "#E5ECF6",
            "gridcolor": "white",
            "gridwidth": 2,
            "linecolor": "white",
            "showbackground": true,
            "ticks": "",
            "zerolinecolor": "white"
           },
           "yaxis": {
            "backgroundcolor": "#E5ECF6",
            "gridcolor": "white",
            "gridwidth": 2,
            "linecolor": "white",
            "showbackground": true,
            "ticks": "",
            "zerolinecolor": "white"
           },
           "zaxis": {
            "backgroundcolor": "#E5ECF6",
            "gridcolor": "white",
            "gridwidth": 2,
            "linecolor": "white",
            "showbackground": true,
            "ticks": "",
            "zerolinecolor": "white"
           }
          },
          "shapedefaults": {
           "line": {
            "color": "#2a3f5f"
           }
          },
          "ternary": {
           "aaxis": {
            "gridcolor": "white",
            "linecolor": "white",
            "ticks": ""
           },
           "baxis": {
            "gridcolor": "white",
            "linecolor": "white",
            "ticks": ""
           },
           "bgcolor": "#E5ECF6",
           "caxis": {
            "gridcolor": "white",
            "linecolor": "white",
            "ticks": ""
           }
          },
          "title": {
           "x": 0.05
          },
          "xaxis": {
           "automargin": true,
           "gridcolor": "white",
           "linecolor": "white",
           "ticks": "",
           "title": {
            "standoff": 15
           },
           "zerolinecolor": "white",
           "zerolinewidth": 2
          },
          "yaxis": {
           "automargin": true,
           "gridcolor": "white",
           "linecolor": "white",
           "ticks": "",
           "title": {
            "standoff": 15
           },
           "zerolinecolor": "white",
           "zerolinewidth": 2
          }
         }
        },
        "title": {
         "text": "Carrier Value Treemap"
        },
        "width": 1600
       }
      }
     },
     "metadata": {},
     "output_type": "display_data"
    },
    {
     "name": "stdout",
     "output_type": "stream",
     "text": [
      "['AC', 'DAC', 'DC', 'Fischer-Tropsch', 'H2 Electrolysis', 'H2 Store', 'H2 pipeline', 'Offshore Wind (AC)', 'Offshore Wind (DC)', 'Offshore Wind (Floating)', 'Onshore Wind', 'Open-Cycle Gas', 'SMR', 'SMR CC', 'Sabatier', 'Solar', 'co2 sequestered', 'co2 stored', 'electricity distribution grid', 'gas', 'gas for industry CC', 'gas pipeline', 'gas pipeline new', 'methanolisation', 'rural air heat pump', 'rural gas boiler', 'rural ground heat pump', 'rural resistive heater', 'rural solar thermal', 'solar rooftop', 'solar-hsat', 'solid biomass for industry CC', 'urban central CHP', 'urban central CHP CC', 'urban central air heat pump', 'urban central gas boiler', 'urban central resistive heater', 'urban central solar thermal', 'urban decentral air heat pump', 'urban decentral gas boiler', 'urban decentral resistive heater', 'urban decentral solar thermal']\n"
     ]
    }
   ],
   "source": [
    "import myUtils as utils\n",
    "import plotly.express as px\n",
    "import importlib\n",
    "importlib.reload(utils)\n",
    "\n",
    "s = nBase.statistics.capex(groupby=[\"carrier\",\"de_grouper\"]).groupby('carrier').sum() / 1e9\n",
    "# print(s.sum())\n",
    "# df = s.to_frame('value')\n",
    "\n",
    "# print(df)\n",
    "# # print(utils.dataframe_to_table(df))\n",
    "\n",
    "# s.rename(index={\n",
    "#   \"AC\": \"AC<br>Leitung\",\n",
    "#   \"DAC\": \"DAC\",\n",
    "#   \"DC\": \"DC<br>Leitung\",\n",
    "#   \"Fischer-Tropsch\": \"Fischer<br>Tropsch\",\n",
    "#   \"H2 Electrolysis\": \"H2<br>Elektrolyse\",\n",
    "#   \"H2 Store\": \"H2<br>Speicher\",\n",
    "#   \"H2 pipeline\": \"H2<br>Pipeline\",\n",
    "#   \"Offshore Wind (AC)\": \"Offshore-<br>Wind (AC)\",\n",
    "#   \"Offshore Wind (DC)\": \"Offshore-Wind (DC)\",\n",
    "#   \"Offshore Wind (Floating)\": \"Schwimmende<br>Offshore-Windkraft\",\n",
    "#   \"Onshore Wind\": \"Onshore-Wind\",\n",
    "#   \"Open-Cycle Gas\": \"OCGT\",\n",
    "#   \"SMR\": \"Dampfreformierung\",\n",
    "#   \"SMR CC\": \"Dampfreformierung mit Kohlendioxidgewinnung\",\n",
    "#   \"Sabatier\": \"Sabatier-Prozess\",\n",
    "#   \"Solar\": \"Solar\",\n",
    "#   \"co2 sequestered\": \"CO2 <br>Abs-<br>cheid\",\n",
    "#   \"co2 stored\": \"CO2 <br>gespeichert\",\n",
    "#   \"electricity distribution grid\": \"Stromverteilungs<br>netz\",\n",
    "#   \"gas\": \"Gas\",\n",
    "#   \"gas for industry CC\": \"Gas <br>Industrie\",\n",
    "#   \"gas pipeline\": \"Gaspipeline\",\n",
    "#   \"gas pipeline new\": \"Neue Gaspipeline\",\n",
    "#   \"methanolisation\": \"Methanolisierung\",\n",
    "#   \"rural air heat pump\": \"Ländliche<br>Luftwärmepumpe\",\n",
    "#   \"rural gas boiler\": \"Ländlicher<br>Gaskessel\",\n",
    "#   \"rural ground heat pump\": \"Ländliche<br>Erdwärmepumpe\",\n",
    "#   \"rural resistive heater\": \"Ländlicher Widerstandsheizgerät\",\n",
    "#   \"rural solar thermal\": \"Ländliche Solarthermie\",\n",
    "#   \"solar rooftop\": \"Solar auf dem Dach\",\n",
    "#   \"solar-hsat\": \"Solar-HSAT\",\n",
    "#   \"solid biomass for industry CC\": \" Biomasse für <br>die Industrie\",\n",
    "#   \"urban central CHP\": \"Zentrales CHP\",\n",
    "#   \"urban central CHP CC\": \"Zentrales CHP mit CC\",\n",
    "#   \"urban central air heat pump\": \"Zentrale<br>Luftwärmepumpe<br>für Städte\",\n",
    "#   \"urban central gas boiler\": \"Zentraler Gaskessel für Städte\",\n",
    "#   \"urban central resistive heater\": \"Zentraler Widerstandsheizgerät<br>fürStädte\",\n",
    "#   \"urban central solar thermal\": \"Zentrale Solarthermie<br>für Städte\",\n",
    "#   \"urban decentral air heat pump\": \"Dezentrale<br>Luftwärmepumpe<br>für Städte\",\n",
    "#   \"urban decentral gas boiler\": \"Dezentraler<br>Gaskessel<br>für Städte\",\n",
    "#   \"urban decentral resistive heater\": \"Dezentraler<br>Widerstandsheizgerät für<br>Städte\",\n",
    "#   \"urban decentral solar thermal\": \"Dezentrale<br>Solarthermie für<br>Städte\"\n",
    "# }\n",
    "# , inplace=True)\n",
    "\n",
    "\n",
    "df = s.reset_index()\n",
    "\n",
    "\n",
    "df.columns = ['carrier', 'Mrd. EUR']\n",
    "\n",
    "\n",
    "fig = px.treemap(df, path=['carrier'], values='Mrd. EUR', title='Carrier Value Treemap'\n",
    "                 , color=\"Mrd. EUR\"\n",
    "                #  , pathbar_textfont_size=15\n",
    "\n",
    "                 ,color_continuous_scale=px.colors.sequential.Aggrnyl )\n",
    "\n",
    "fig.update_layout(\n",
    "    # uniformtext=dict(minsize=20, mode=\"show\"),\n",
    "\n",
    "    width=1600,  # 设置图表宽度\n",
    "    height=1200, # 设置图表高度\n",
    "    # paper_bgcolor= 'white',\n",
    "    # plot_bgcolor = 'white',\n",
    ")\n",
    "# 显示图形\n",
    "fig.show()\n",
    "\n",
    "print(list(s.index))\n"
   ]
  },
  {
   "cell_type": "code",
   "execution_count": 6,
   "metadata": {},
   "outputs": [
    {
     "data": {
      "image/png": "[encoded data removed]",
      "text/plain": [
       "<Figure size 640x480 with 1 Axes>"
      ]
     },
     "metadata": {},
     "output_type": "display_data"
    }
   ],
   "source": [
    "import matplotlib.pyplot as plt\n",
    "import squarify\n",
    "\n",
    "# 数据：每个方块的大小\n",
    "sizes = [500, 300, 200, 100, 50]\n",
    "\n",
    "# 创建颜色列表\n",
    "colors = ['#FF6347', '#FFD700', '#ADFF2F', '#7FFFD4', '#4682B4']\n",
    "\n",
    "# 绘制树状图\n",
    "squarify.plot(sizes=sizes, color=colors, label=[\"A\", \"B\", \"C\", \"D\", \"E\"], alpha=.7)\n",
    "\n",
    "# 去除坐标轴\n",
    "plt.axis('off')\n",
    "\n",
    "# 显示图形\n",
    "plt.show()"
   ]
  }
 ],
 "metadata": {
  "kernelspec": {
   "display_name": "pypsa-eur",
   "language": "python",
   "name": "python3"
  },
  "language_info": {
   "codemirror_mode": {
    "name": "ipython",
    "version": 3
   },
   "file_extension": ".py",
   "mimetype": "text/x-python",
   "name": "python",
   "nbconvert_exporter": "python",
   "pygments_lexer": "ipython3",
   "version": "3.12.8"
  }
 },
 "nbformat": 4,
 "nbformat_minor": 2
}
