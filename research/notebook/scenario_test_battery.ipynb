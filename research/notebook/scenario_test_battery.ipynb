{
 "cells": [
  {
   "cell_type": "code",
   "execution_count": 24,
   "metadata": {},
   "outputs": [
    {
     "name": "stderr",
     "output_type": "stream",
     "text": [
      "INFO:pypsa.io:Imported network base_s_27_3H_3H_2045.nc has buses, carriers, generators, global_constraints, lines, links, loads, storage_units, stores\n"
     ]
    }
   ],
   "source": [
    "import pypsa\n",
    "import matplotlib.pyplot as plt\n",
    "import pandas as pd\n",
    "\n",
    "\n",
    "rootPath = \"../../results/scenario/battery\"\n",
    "\n",
    "\n",
    "plt.style.use('bmh')\n",
    "%matplotlib inline\n",
    "\n",
    "# n = pypsa.Network(rootPath + \"_best/networks/base_s_27_3H_3H_2045.nc\")\n",
    "n = pypsa.Network(\"../../results/smart/flex-2045/networks/base_s_27_3H_3H_2045.nc\")\n"
   ]
  },
  {
   "cell_type": "code",
   "execution_count": 25,
   "metadata": {},
   "outputs": [
    {
     "name": "stdout",
     "output_type": "stream",
     "text": [
      "DE0 0 battery\n",
      "c 7206.012026042509\n",
      "m 0.01\n",
      "0.04612632783601388\n",
      "True\n",
      "inf\n",
      "DE0 0 battery discharger\n",
      "c 0.0\n",
      "m 0.01\n",
      "0.016583038140286548\n",
      "True\n",
      "inf\n",
      "DE0 0 battery charger\n",
      "c 12624.79138764242\n",
      "m 0.01\n",
      "0.016247992731521152\n",
      "True\n",
      "inf\n"
     ]
    }
   ],
   "source": [
    "batteryName = 'DE0 0 battery'\n",
    "print(batteryName)\n",
    "print('c',n.stores.loc[batteryName]['capital_cost'])\n",
    "print('m',n.stores.loc[batteryName]['marginal_cost'])\n",
    "print(n.stores.loc[batteryName]['e_nom_opt'])\n",
    "print(n.stores.loc[batteryName]['e_nom_extendable'])\n",
    "print(n.stores.loc[batteryName]['e_nom_max'])\n",
    "\n",
    "dischargerName = 'DE0 0 battery discharger'\n",
    "print(dischargerName)\n",
    "print('c',n.links.loc[dischargerName]['capital_cost'])\n",
    "print('m',n.links.loc[dischargerName]['marginal_cost'])\n",
    "print(n.links.loc[dischargerName]['p_nom_opt'])\n",
    "print(n.links.loc[dischargerName]['p_nom_extendable'])\n",
    "print(n.links.loc[dischargerName]['p_nom_max'])\n",
    "\n",
    "chargeName = 'DE0 0 battery charger'\n",
    "print(chargeName)\n",
    "print('c',n.links.loc[chargeName]['capital_cost'])\n",
    "print('m',n.links.loc[chargeName]['marginal_cost'])\n",
    "print(n.links.loc[chargeName]['p_nom_opt'])\n",
    "print(n.links.loc[chargeName]['p_nom_extendable'])\n",
    "print(n.links.loc[chargeName]['p_nom_max'])"
   ]
  },
  {
   "cell_type": "code",
   "execution_count": 26,
   "metadata": {},
   "outputs": [
    {
     "data": {
      "text/plain": [
       "45.83789337488126"
      ]
     },
     "execution_count": 26,
     "metadata": {},
     "output_type": "execute_result"
    }
   ],
   "source": [
    "import myUtils as utils\n",
    "\n",
    "import importlib\n",
    "importlib.reload(utils)\n",
    "\n",
    "batteryStoreIds = utils.de_battery_store_grouper(n, 'Store').tolist()\n",
    "n.stores_t.p[batteryStoreIds].clip(upper=0).sum()\n",
    "n.stores.loc[batteryStoreIds]\n",
    "- n.stores_t.p[batteryStoreIds].clip(upper=0).sum().sum()\n",
    "\n"
   ]
  },
  {
   "cell_type": "code",
   "execution_count": 27,
   "metadata": {},
   "outputs": [
    {
     "data": {
      "text/plain": [
       "0.5924966871813444"
      ]
     },
     "execution_count": 27,
     "metadata": {},
     "output_type": "execute_result"
    }
   ],
   "source": [
    "n.stores.loc[batteryStoreIds]['e_nom_opt'].sum()"
   ]
  },
  {
   "cell_type": "code",
   "execution_count": 28,
   "metadata": {},
   "outputs": [
    {
     "data": {
      "text/plain": [
       "1323073683.9252598"
      ]
     },
     "execution_count": 28,
     "metadata": {},
     "output_type": "execute_result"
    }
   ],
   "source": [
    "n.statistics.capex(groupby=\"de_elec_store_grouper\").sum()"
   ]
  }
 ],
 "metadata": {
  "kernelspec": {
   "display_name": "pypsa-eur",
   "language": "python",
   "name": "python3"
  },
  "language_info": {
   "codemirror_mode": {
    "name": "ipython",
    "version": 3
   },
   "file_extension": ".py",
   "mimetype": "text/x-python",
   "name": "python",
   "nbconvert_exporter": "python",
   "pygments_lexer": "ipython3",
   "version": "3.12.8"
  }
 },
 "nbformat": 4,
 "nbformat_minor": 2
}
