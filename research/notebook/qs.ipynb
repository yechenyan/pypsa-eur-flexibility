{
 "cells": [
  {
   "cell_type": "code",
   "execution_count": 1,
   "metadata": {},
   "outputs": [
    {
     "name": "stderr",
     "output_type": "stream",
     "text": [
      "INFO:pypsa.io:Imported network base_s_27_3H_3H_2045.nc has buses, carriers, generators, global_constraints, lines, links, loads, storage_units, stores\n"
     ]
    }
   ],
   "source": [
    "import pypsa\n",
    "import matplotlib.pyplot as plt\n",
    "import pandas as pd\n",
    "nBase = pypsa.Network(\"../../results/smart/current/networks/base_s_27_3H_3H_2045.nc\")\n",
    "\n",
    "# pathTail = \"/networks/base_s_27_3H_3H_2045.nc\"\n",
    "# nBase = pypsa.Network(f\"../../results/scenario/base{pathTail}\")\n",
    "\n",
    "%load_ext autoreload\n",
    "%autoreload 2\n",
    "\n",
    "from pea import Pea, carriers as cs\n",
    "\n",
    "pea = Pea(nBase, config={\n",
    "  'resolution': 3\n",
    "})"
   ]
  },
  {
   "cell_type": "code",
   "execution_count": 9,
   "metadata": {},
   "outputs": [
    {
     "name": "stdout",
     "output_type": "stream",
     "text": [
      "electrolysis 715.3688622692058\n",
      "power2warm 207.06909364740557\n",
      "bev 141.3790481337635\n",
      "electricity 206.0006891037039\n",
      "inudstrz 354.2019657533789\n",
      "export 154.70827300353122\n",
      "import 169.354104233931\n",
      "netImport -14.645831230399779\n",
      "warmLoad 557.7357981830058\n",
      "totalNeed 1624.0196589074576\n"
     ]
    },
    {
     "data": {
      "text/plain": [
       "838"
      ]
     },
     "execution_count": 9,
     "metadata": {},
     "output_type": "execute_result"
    }
   ],
   "source": [
    "need = {\n",
    "  'electrolysis': pea.get(cs.h2Electrolysis).energy('p0') / 1e6,\n",
    "  'power2warm': pea.get(cs.power2warm).energy('p0') / 1e6,\n",
    "  'bev': pea.get(cs.landTransportEV).energy('p') / 1e6,\n",
    "  'electricity': pea.get(cs.powerUse).energy('p') /1e6,\n",
    "  'inudstrz': pea.get(cs.powerUseIndustry).energy('p') /1e6,\n",
    "}\n",
    "\n",
    "totalNeed = 0\n",
    "for key,value in need.items():\n",
    "  print(key, value)\n",
    "  totalNeed = totalNeed + value\n",
    "\n",
    "export = pea.get(cs.power, type='import').t('p1').clip(lower=0).sum(axis=1) + pea.get(cs.power, type='export').t('p0').clip(lower=0).sum(axis=1)\n",
    "pimport = - pea.get(cs.power, type='import').t('p1').clip(upper=0).sum(axis=1) - pea.get(cs.power, type='export').t('p0').clip(upper=0).sum(axis=1)\n",
    "\n",
    "print('export', export.sum() * 3 / 1e6)\n",
    "print('import', pimport.sum() * 3 /1e6)\n",
    "print('netImport', export.sum() * 3 / 1e6 - pimport.sum() * 3 /1e6)\n",
    "print('warmLoad', pea.get(cs.warmLoad).energy('p') / 1e6)\n",
    "print('totalNeed', totalNeed)\n",
    "\n",
    "\n",
    "838"
   ]
  },
  {
   "cell_type": "code",
   "execution_count": 14,
   "metadata": {},
   "outputs": [
    {
     "name": "stdout",
     "output_type": "stream",
     "text": [
      "-476.5662650741274\n",
      "onwind               361.327258\n",
      "offwind               32.120855\n",
      "solar                319.507566\n",
      "solarRooftop         156.760050\n",
      "batteryDischarger     64.130692\n",
      "gasH2Power             0.369980\n",
      "biomassCHP             1.204068\n",
      "geothermalORC          0.000013\n",
      "v2g                   39.668789\n",
      "h2FC                   0.000010\n",
      "phs                    3.010009\n",
      "importPower          169.354104\n",
      "dtype: float64\n"
     ]
    }
   ],
   "source": [
    "df = pd.DataFrame(index = nBase.snapshots)\n",
    "\n",
    "for carrier in ['onwind', 'offwind', 'solar', 'solarRooftop']:\n",
    "  df[carrier] = pea.get(getattr(cs,carrier)).t('p').sum(axis=1)\n",
    "\n",
    "for carrier in ['batteryDischarger', 'gasH2Power', 'biomassCHP', 'geothermalORC', 'v2g', 'h2FC']:\n",
    "  carrier_t = pea.get(getattr(cs,carrier)).t('p', pAs='p1')\n",
    "  if carrier_t is not None:\n",
    "    df[carrier] = - carrier_t.sum(axis=1)\n",
    "df['phs'] = pea.get(cs.phs).t('p_dispatch').sum(axis=1)\n",
    "df['importPower'] = - pea.get(cs.power, type='import').t('p1').clip(upper=0).sum(axis=1) \\\n",
    "                    - pea.get(cs.power, type='export').t('p0').clip(upper=0).sum(axis=1)\n",
    "\n",
    "totalSupply = df.sum().sum() * 3/ 1e6\n",
    "\n",
    "\n",
    "# print('netImport', totalNeed - totalSupply)\n",
    "print(totalSupply - totalNeed)\n",
    "\n",
    "print(df.sum() *3/ 1e6)"
   ]
  },
  {
   "cell_type": "code",
   "execution_count": 19,
   "metadata": {},
   "outputs": [
    {
     "data": {
      "text/plain": [
       "snapshot\n",
       "2019-01-01 00:00:00     82396.259717\n",
       "2019-01-01 03:00:00    107958.973464\n",
       "2019-01-01 06:00:00    124861.054989\n",
       "2019-01-01 09:00:00    124543.204747\n",
       "2019-01-01 12:00:00    133105.768390\n",
       "                           ...      \n",
       "2019-12-31 09:00:00     48622.788548\n",
       "2019-12-31 12:00:00     36107.228034\n",
       "2019-12-31 15:00:00     29175.372339\n",
       "2019-12-31 18:00:00     25083.488656\n",
       "2019-12-31 21:00:00     17656.266026\n",
       "Length: 2920, dtype: float64"
      ]
     },
     "execution_count": 19,
     "metadata": {},
     "output_type": "execute_result"
    }
   ],
   "source": [
    "up = - pea.get(cs.power, type='inner').t('p0').clip(upper=0).sum(axis=1).sum()\n",
    "low = pea.get(cs.power, type='inner').t('p0').clip(lower=0).sum(axis=1).sum()\n",
    "\n",
    "\n",
    "total = up + low \n",
    "total.sum() * 3 /1e6\n",
    "\n",
    "\n",
    "pea.get(cs.onwind).t('p').sum(axis=1)"
   ]
  },
  {
   "cell_type": "code",
   "execution_count": null,
   "metadata": {},
   "outputs": [
    {
     "name": "stdout",
     "output_type": "stream",
     "text": [
      "onwind          180000.000115\n",
      "offwind           6434.768970\n",
      "solar           336000.056101\n",
      "solarRooftop    164000.000307\n",
      "dtype: float64\n"
     ]
    }
   ],
   "source": [
    "df = pd.Series()\n",
    "\n",
    "for carrier in ['onwind', 'offwind', 'solar', 'solarRooftop']:\n",
    "  df[carrier] = pea.get(getattr(cs,carrier)).df['p_nom_opt'].sum() \n",
    "\n",
    "for carrier in ['batteryDischarger', 'gasH2Power', 'biomassCHP', 'geothermalORC', 'v2g', 'h2FC']:\n",
    "  df[carrier] = pea.get(getattr(cs,carrier)).df['p_nom_opt'].sum() \n",
    "\n",
    "#   if carrier_t is not None:\n",
    "#     df[carrier] = - carrier_t.sum(axis=1)\n",
    "# df['phs'] = pea.get(cs.phs).t('p_dispatch').sum(axis=1)\n",
    "# df['importPower'] = - pea.get(cs.power, type='import').t('p1').clip(upper=0).sum(axis=1) \\\n",
    "#                     - pea.get(cs.power, type='export').t('p0').clip(upper=0).sum(axis=1)\n",
    "\n",
    "# totalSupply = df.sum().sum() * 3/ 1e6\n",
    "\n",
    "\n",
    "# print('netImport', totalNeed - totalSupply)\n",
    "# print(totalSupply - totalNeed)\n",
    "\n",
    "print(df)"
   ]
  },
  {
   "cell_type": "code",
   "execution_count": 23,
   "metadata": {},
   "outputs": [
    {
     "data": {
      "text/plain": [
       "180000.0001148726"
      ]
     },
     "execution_count": 23,
     "metadata": {},
     "output_type": "execute_result"
    }
   ],
   "source": [
    "pea.get(cs.onwind).df['p_nom_opt'].sum()"
   ]
  }
 ],
 "metadata": {
  "kernelspec": {
   "display_name": "pypsa-eur",
   "language": "python",
   "name": "python3"
  },
  "language_info": {
   "codemirror_mode": {
    "name": "ipython",
    "version": 3
   },
   "file_extension": ".py",
   "mimetype": "text/x-python",
   "name": "python",
   "nbconvert_exporter": "python",
   "pygments_lexer": "ipython3",
   "version": "3.12.8"
  }
 },
 "nbformat": 4,
 "nbformat_minor": 2
}
