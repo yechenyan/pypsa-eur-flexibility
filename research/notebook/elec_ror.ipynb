{
 "cells": [
  {
   "cell_type": "code",
   "execution_count": 1,
   "metadata": {},
   "outputs": [
    {
     "name": "stderr",
     "output_type": "stream",
     "text": [
      "INFO:pypsa.io:Imported network base_s_27_3H_3H_2045.nc has buses, carriers, generators, global_constraints, lines, links, loads, storage_units, stores\n",
      "INFO:pypsa.io:Imported network base_s_27_3H_3H_2045.nc has buses, carriers, generators, global_constraints, lines, links, loads, storage_units, stores\n",
      "INFO:pypsa.io:Imported network base_s_27_3H_3H_2045.nc has buses, carriers, generators, global_constraints, lines, links, loads, storage_units, stores\n",
      "INFO:pypsa.io:Imported network base_s_27_3H_3H_2045.nc has buses, carriers, generators, global_constraints, lines, links, loads, storage_units, stores\n"
     ]
    }
   ],
   "source": [
    "import pypsa\n",
    "import matplotlib.pyplot as plt\n",
    "import pandas as pd\n",
    "import myUtils as utils\n",
    "\n",
    "%load_ext autoreload\n",
    "%autoreload 2\n",
    "\n",
    "rootPath = \"../../results/scenario/ror\"\n",
    "pathTail = \"/networks/base_s_27_3H_3H_2045.nc\"\n",
    "\n",
    "\n",
    "\n",
    "plt.style.use('bmh')\n",
    "%matplotlib inline\n",
    "\n",
    "nBase = pypsa.Network(f\"../../results/scenario/base{pathTail}\")\n",
    "nMean = pypsa.Network(f\"{rootPath}_mean/{pathTail}\")\n",
    "nGood = pypsa.Network(f\"{rootPath}_good/{pathTail}\")\n",
    "nBest = pypsa.Network(f\"{rootPath}_best/{pathTail}\")\n",
    "\n",
    "networks = {\n",
    "  # \"Basis\": nBase,\n",
    "  \"Mittel\": nMean,\n",
    "  \"Optimistisch\": nGood,\n",
    "  \"Sehr Optimistisch\": nBest\n",
    "}"
   ]
  },
  {
   "cell_type": "code",
   "execution_count": 3,
   "metadata": {},
   "outputs": [
    {
     "name": "stdout",
     "output_type": "stream",
     "text": [
      "               Mittel  Optimistisch  Sehr Optimistisch\n",
      "ROR CAPEX     2.46536       1.96916            1.22924\n",
      "ROR Kapazität 1.00793      26.16198          103.07125\n",
      "ROR Energie   4.06160     103.18589          402.52022\n",
      "  [ROR CAPEX], [2,465], [1,969], [1,229],\n",
      "  [ROR Kapazität], [1,008], [26,162], [103,071],\n",
      "  [ROR Energie], [4,062], [103,186], [402,520],\n"
     ]
    }
   ],
   "source": [
    "from pea import Pea, carriers as cs\n",
    "\n",
    "\n",
    "df = pd.DataFrame()\n",
    "for key, n in networks.items():\n",
    "  pea = Pea(n, config={'resolution': 3})\n",
    "  s = pd.Series()\n",
    "  s['ROR CAPEX'] = pea.get(cs.ror).capex() / 1e6\n",
    "\n",
    "  s['ROR Kapazität'] = pea.get(cs.ror).p_nom_opt() / 1e3\n",
    "\n",
    "  s['ROR Energie'] =   pea.get(cs.ror).energy() / 1e6\n",
    "\n",
    "\n",
    "  df[key] = s\n",
    "\n",
    "print(df)\n",
    "\n",
    "print(utils.dataframe_to_table(df))"
   ]
  }
 ],
 "metadata": {
  "kernelspec": {
   "display_name": "pypsa-eur",
   "language": "python",
   "name": "python3"
  },
  "language_info": {
   "codemirror_mode": {
    "name": "ipython",
    "version": 3
   },
   "file_extension": ".py",
   "mimetype": "text/x-python",
   "name": "python",
   "nbconvert_exporter": "python",
   "pygments_lexer": "ipython3",
   "version": "3.12.8"
  }
 },
 "nbformat": 4,
 "nbformat_minor": 2
}
