{
 "cells": [
  {
   "cell_type": "code",
   "execution_count": 2,
   "metadata": {},
   "outputs": [
    {
     "name": "stderr",
     "output_type": "stream",
     "text": [
      "INFO:pypsa.io:Imported network base_s_27_3H_3H_2045.nc has buses, carriers, generators, global_constraints, lines, links, loads, storage_units, stores\n",
      "INFO:pypsa.io:Imported network base_s_27_3H_3H_2045.nc has buses, carriers, generators, global_constraints, lines, links, loads, storage_units, stores\n",
      "INFO:pypsa.io:Imported network base_s_27_3H_3H_2045.nc has buses, carriers, generators, global_constraints, lines, links, loads, storage_units, stores\n",
      "INFO:pypsa.io:Imported network base_s_27_3H_3H_2045.nc has buses, carriers, generators, global_constraints, lines, links, loads, storage_units, stores\n"
     ]
    }
   ],
   "source": [
    "import pypsa\n",
    "import matplotlib.pyplot as plt\n",
    "import pandas as pd\n",
    "import myUtils as utils\n",
    "\n",
    "%load_ext autoreload\n",
    "%autoreload 2\n",
    "\n",
    "rootPath = \"../../results/scenario/geothermal\"\n",
    "pathTail = \"/networks/base_s_27_3H_3H_2045.nc\"\n",
    "\n",
    "\n",
    "\n",
    "plt.style.use('bmh')\n",
    "%matplotlib inline\n",
    "\n",
    "nBase = pypsa.Network(f\"../../results/scenario/base{pathTail}\")\n",
    "nMean = pypsa.Network(f\"{rootPath}_mean/{pathTail}\")\n",
    "nGood = pypsa.Network(f\"{rootPath}_good/{pathTail}\")\n",
    "nBest = pypsa.Network(f\"{rootPath}_best/{pathTail}\")\n",
    "\n",
    "networks = {\n",
    "  # \"Basis\": nBase,\n",
    "  \"Mittel\": nMean,\n",
    "  \"Optimistisch\": nGood,\n",
    "  \"Sehr Optimistisch\": nBest\n",
    "}"
   ]
  },
  {
   "cell_type": "code",
   "execution_count": 7,
   "metadata": {},
   "outputs": [
    {
     "name": "stdout",
     "output_type": "stream",
     "text": [
      "                                        Mittel  Optimistisch  Sehr Optimistisch\n",
      "Geothermische Stromerzeugung CAPEX     8.22576       6.10982            3.16693\n",
      "Geothermische Heizung CAPEX            2.05644       1.45108            0.71256\n",
      "Geothermische Stromerzeugung Kapazität 0.00171       0.00277            0.00526\n",
      "Geothermische Heizung Kapazität        0.00511       0.00983            0.02076\n",
      "Geothermische Stromerzeugung Energie   3.50982       4.60534            6.32208\n",
      "Geothermische Heizung Energie          3.08559       4.05222            5.30005\n",
      "  [Geothermische Stromerzeugung CAPEX], [8,226], [6,110], [3,167],\n",
      "  [Geothermische Heizung CAPEX], [2,056], [1,451], [0,713],\n",
      "  [Geothermische Stromerzeugung Kapazität], [0,002], [0,003], [0,005],\n",
      "  [Geothermische Heizung Kapazität], [0,005], [0,010], [0,021],\n",
      "  [Geothermische Stromerzeugung Energie], [3,510], [4,605], [6,322],\n",
      "  [Geothermische Heizung Energie], [3,086], [4,052], [5,300],\n"
     ]
    }
   ],
   "source": [
    "from pea import Pea, carriers as cs\n",
    "\n",
    "\n",
    "df = pd.DataFrame()\n",
    "for key, n in networks.items():\n",
    "  pea = Pea(n, config={'resolution': 3})\n",
    "  s = pd.Series()\n",
    "  s['Geothermische Stromerzeugung CAPEX'] = pea.get(cs.geothermalORC).capex() / 1e6\n",
    "  s['Geothermische Heizung CAPEX'] = pea.get(cs.geothermalWarm).capex() / 1e6\n",
    "\n",
    "  s['Geothermische Stromerzeugung Kapazität'] = pea.get(cs.geothermalORC).p_nom_opt() \n",
    "  s['Geothermische Heizung Kapazität'] = pea.get(cs.geothermalWarm).p_nom_opt() \n",
    "\n",
    "\n",
    "  s['Geothermische Stromerzeugung Energie'] =   pea.get(cs.geothermalORC).energy('p1')\n",
    "  s['Geothermische Heizung Energie'] =   pea.get(cs.geothermalWarm).energy('p1')\n",
    "\n",
    "\n",
    "  df[key] = s\n",
    "\n",
    "print(df)\n",
    "\n",
    "print(utils.dataframe_to_table(df))"
   ]
  }
 ],
 "metadata": {
  "kernelspec": {
   "display_name": "pypsa-eur",
   "language": "python",
   "name": "python3"
  },
  "language_info": {
   "codemirror_mode": {
    "name": "ipython",
    "version": 3
   },
   "file_extension": ".py",
   "mimetype": "text/x-python",
   "name": "python",
   "nbconvert_exporter": "python",
   "pygments_lexer": "ipython3",
   "version": "3.12.8"
  }
 },
 "nbformat": 4,
 "nbformat_minor": 2
}
