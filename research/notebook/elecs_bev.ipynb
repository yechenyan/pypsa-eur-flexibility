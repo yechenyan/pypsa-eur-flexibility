{
 "cells": [
  {
   "cell_type": "code",
   "execution_count": 1,
   "metadata": {},
   "outputs": [
    {
     "name": "stderr",
     "output_type": "stream",
     "text": [
      "INFO:pypsa.io:Imported network base_s_27_3H_3H_2045.nc has buses, carriers, generators, global_constraints, lines, links, loads, storage_units, stores\n",
      "INFO:pypsa.io:Imported network base_s_27_3H_3H_2045.nc has buses, carriers, generators, global_constraints, lines, links, loads, storage_units, stores\n",
      "INFO:pypsa.io:Imported network base_s_27_3H_3H_2045.nc has buses, carriers, generators, global_constraints, lines, links, loads, storage_units, stores\n",
      "INFO:pypsa.io:Imported network base_s_27_3H_3H_2045.nc has buses, carriers, generators, global_constraints, lines, links, loads, storage_units, stores\n"
     ]
    },
    {
     "name": "stderr",
     "output_type": "stream",
     "text": [
      "Bad pipe message: %s [b'ragma: no']\n",
      "Bad pipe message: %s [b'ache\\r\\nProxy-Connection: keep-alive\\r\\nAccept: ', b'*\\r\\nUser-Agent: V2rayU/4.2.5 CFNetwork/156', b'100.1.1.1 Darwin/24.0.0\\r\\nAccept-Language: en-US,en;q=0.']\n"
     ]
    }
   ],
   "source": [
    "import pypsa\n",
    "import matplotlib.pyplot as plt\n",
    "import pandas as pd\n",
    "import myUtils as utils\n",
    "\n",
    "rootPath = \"../../results/scenario/bev\"\n",
    "pathTail = \"/networks/base_s_27_3H_3H_2045.nc\"\n",
    "\n",
    "\n",
    "\n",
    "plt.style.use('bmh')\n",
    "%matplotlib inline\n",
    "\n",
    "nBase = pypsa.Network(f\"../../results/scenario/base{pathTail}\")\n",
    "nMean = pypsa.Network(f\"{rootPath}_mean/{pathTail}\")\n",
    "nGood = pypsa.Network(f\"{rootPath}_good/{pathTail}\")\n",
    "nBest = pypsa.Network(f\"{rootPath}_best/{pathTail}\")\n",
    "\n",
    "networks = {\n",
    "  \"nBase\": nBase,\n",
    "  \"nMean\": nMean,\n",
    "  \"nGood\": nGood,\n",
    "  \"nBest\": nBest\n",
    "}"
   ]
  },
  {
   "cell_type": "code",
   "execution_count": 20,
   "metadata": {},
   "outputs": [
    {
     "name": "stdout",
     "output_type": "stream",
     "text": [
      "  [V2G Stromkapazität], [GW], [0,000], [223,072], [267,687], [401,530],\n",
      "  [V2g Stromerzeugung], [TWH], [-0,000], [29,068], [31,823], [37,569],\n",
      "  [BEV Batteriekapazität], [TWH], [0,000], [1,014], [1,217], [1,825],\n"
     ]
    }
   ],
   "source": [
    "import pandas as pd\n",
    "import myUtils as utils\n",
    "import importlib\n",
    "importlib.reload(utils)\n",
    "\n",
    "df = pd.DataFrame()\n",
    "for key, n in networks.items():\n",
    "  s = pd.Series()\n",
    "  v2g = utils.getNByGroup(n, 'Link', utils.de_v2g)\n",
    "  v2gP1 = utils.getNTimePropByGroup(n, 'Link', 'p1', utils.de_v2g) * 3\n",
    "  evBattery = utils.getNByGroup(n, 'Store', utils.de_ev_battery)\n",
    "\n",
    "  s['V2G Stromkapazität'] =  v2g['p_nom_opt'].sum() / 1e3\n",
    "  s['V2g Stromerzeugung'] = - v2gP1.sum().sum() / 1e6\n",
    "  s['BEV Batteriekapazität'] = evBattery['e_nom_opt'].sum() /1e6\n",
    "  df[key] = s\n",
    "\n",
    "df.insert(0, 'unit', ['GW', 'TWH', 'TWH'])\n",
    "\n",
    "print(utils.dataframe_to_table(df))"
   ]
  }
 ],
 "metadata": {
  "kernelspec": {
   "display_name": "pypsa-eur",
   "language": "python",
   "name": "python3"
  },
  "language_info": {
   "codemirror_mode": {
    "name": "ipython",
    "version": 3
   },
   "file_extension": ".py",
   "mimetype": "text/x-python",
   "name": "python",
   "nbconvert_exporter": "python",
   "pygments_lexer": "ipython3",
   "version": "3.12.8"
  }
 },
 "nbformat": 4,
 "nbformat_minor": 2
}
