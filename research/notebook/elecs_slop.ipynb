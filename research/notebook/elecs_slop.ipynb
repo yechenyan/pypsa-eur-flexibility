{
 "cells": [
  {
   "cell_type": "code",
   "execution_count": 14,
   "metadata": {},
   "outputs": [
    {
     "name": "stdout",
     "output_type": "stream",
     "text": [
      "Slope (m): 0.05162152139955825\n",
      "Intercept (c): 0.9693752872435925\n"
     ]
    }
   ],
   "source": [
    "import numpy as np\n",
    "\n",
    "\n",
    "x = np.array([6.81, 6.89, 7.21]) # biogas\n",
    "x = np.array([6.81, 6.89, 7.21])\n",
    "\n",
    "x = np.array([6.81, 6.89, 7.21])\n",
    "\n",
    "x = np.array([6.81, 6.89, 7.21])\n",
    "\n",
    "x = np.array([1.16, 3.69, 10.49]) #h2\n",
    "\n",
    "# x = np.array([1.65, 1.52, 4.34]) # biomass\n",
    "\n",
    "\n",
    "# x = np.array([1.83, 1.34, 3.08]) #ror\n",
    "\n",
    "# x = np.array([5.01, 5.53, 8.37]) #transmission\n",
    "\n",
    "# x = np.array([5.93, 4.96, 7.21]) # bev\n",
    "\n",
    "y = np.array([1, 1.2, 1.5])\n",
    "\n",
    "# Calculate linear regression using numpy\n",
    "A = np.vstack([x, np.ones(len(x))]).T\n",
    "m, c = np.linalg.lstsq(A, y, rcond=None)[0]\n",
    "\n",
    "print(f\"Slope (m): {m}\")\n",
    "print(f\"Intercept (c): {c}\")"
   ]
  }
 ],
 "metadata": {
  "kernelspec": {
   "display_name": "pypsa-eur",
   "language": "python",
   "name": "python3"
  },
  "language_info": {
   "codemirror_mode": {
    "name": "ipython",
    "version": 3
   },
   "file_extension": ".py",
   "mimetype": "text/x-python",
   "name": "python",
   "nbconvert_exporter": "python",
   "pygments_lexer": "ipython3",
   "version": "3.12.8"
  }
 },
 "nbformat": 4,
 "nbformat_minor": 2
}
