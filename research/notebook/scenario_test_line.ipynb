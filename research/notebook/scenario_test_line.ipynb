{
 "cells": [
  {
   "cell_type": "code",
   "execution_count": null,
   "metadata": {},
   "outputs": [
    {
     "name": "stderr",
     "output_type": "stream",
     "text": [
      "INFO:pypsa.io:Imported network base_s_27_lvopt_3H_3H_2045.nc has buses, carriers, generators, global_constraints, lines, links, loads, storage_units, stores\n"
     ]
    }
   ],
   "source": [
    "import pypsa\n",
    "import matplotlib.pyplot as plt\n",
    "import pandas as pd\n",
    "import myUtils as utils\n",
    "\n",
    "\n",
    "\n",
    "rootPath = \"../../results/scenario/PHS\"\n",
    "\n",
    "\n",
    "plt.style.use('bmh')\n",
    "%matplotlib inline\n",
    "\n",
    "n = pypsa.Network(rootPath + \"-max/postnetworks/base_s_27_lvopt_3H_3H_2045.nc\")"
   ]
  },
  {
   "cell_type": "code",
   "execution_count": 4,
   "metadata": {},
   "outputs": [
    {
     "data": {
      "text/plain": [
       "['20', '21', '22', '27', '38', '39', '40', '41']"
      ]
     },
     "execution_count": 4,
     "metadata": {},
     "output_type": "execute_result"
    }
   ],
   "source": [
    "import importlib\n",
    "importlib.reload(utils)\n",
    "utils.de_import_elec_reverse_grouper(n, 'Line').tolist()"
   ]
  },
  {
   "cell_type": "code",
   "execution_count": 6,
   "metadata": {},
   "outputs": [
    {
     "data": {
      "text/plain": [
       "['10', '13', '14', '3', '4', '5']"
      ]
     },
     "execution_count": 6,
     "metadata": {},
     "output_type": "execute_result"
    }
   ],
   "source": [
    "utils.de_import_elec_grouper(n, 'Line').tolist()"
   ]
  },
  {
   "cell_type": "code",
   "execution_count": 5,
   "metadata": {},
   "outputs": [
    {
     "data": {
      "text/plain": [
       "bus0                                      DE0 0\n",
       "bus1                                      DK0 0\n",
       "type                Al/St 240/40 4-bundle 380.0\n",
       "x                                      15.29203\n",
       "r                                       1.86488\n",
       "g                                       0.00000\n",
       "b                                       0.00970\n",
       "s_nom                               10188.61567\n",
       "s_nom_mod                               0.00000\n",
       "s_nom_extendable                           True\n",
       "s_nom_min                           10188.61567\n",
       "s_nom_max                           30188.61567\n",
       "s_max_pu                                0.70000\n",
       "capital_cost                        15702.10178\n",
       "active                                     True\n",
       "build_year                                    0\n",
       "lifetime                                    inf\n",
       "length                                372.97634\n",
       "carrier                                      AC\n",
       "terrain_factor                          1.00000\n",
       "num_parallel                            6.00000\n",
       "v_ang_min                                  -inf\n",
       "v_ang_max                                   inf\n",
       "sub_network                                    \n",
       "x_pu                                    0.00000\n",
       "r_pu                                    0.00000\n",
       "g_pu                                    0.00000\n",
       "b_pu                                    0.00000\n",
       "x_pu_eff                                0.00011\n",
       "r_pu_eff                                0.00001\n",
       "s_nom_opt                           10455.91936\n",
       "dc                                      0.00000\n",
       "i_nom                                   2.58000\n",
       "v_nom                                 380.00000\n",
       "Name: 20, dtype: object"
      ]
     },
     "execution_count": 5,
     "metadata": {},
     "output_type": "execute_result"
    }
   ],
   "source": [
    "n.lines.loc['20']"
   ]
  }
 ],
 "metadata": {
  "kernelspec": {
   "display_name": "pypsa-eur",
   "language": "python",
   "name": "python3"
  },
  "language_info": {
   "codemirror_mode": {
    "name": "ipython",
    "version": 3
   },
   "file_extension": ".py",
   "mimetype": "text/x-python",
   "name": "python",
   "nbconvert_exporter": "python",
   "pygments_lexer": "ipython3",
   "version": "3.12.8"
  }
 },
 "nbformat": 4,
 "nbformat_minor": 2
}
