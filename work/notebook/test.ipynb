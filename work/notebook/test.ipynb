{
 "cells": [
  {
   "cell_type": "code",
   "execution_count": 8,
   "metadata": {},
   "outputs": [
    {
     "name": "stdout",
     "output_type": "stream",
     "text": [
      "Empty DataFrame\n",
      "Columns: [value, unit, source, further description, currency_year]\n",
      "Index: []\n"
     ]
    }
   ],
   "source": [
    "import pandas as pd\n",
    "costs = pd.read_csv(\"../../resources/base27Node2045/costs_2025.csv\", index_col=[0, 1]).sort_index()\n",
    "\n",
    "\n",
    "params = {\n",
    "  'override': {\n",
    "    'Ammonia cracker': {\n",
    "      'FOM':  5,\n",
    "      'investment': 2\n",
    "    },\n",
    "    'BEV Bus city': {\n",
    "      'FOM':1\n",
    "    }   \n",
    "  } \n",
    "}\n",
    "if 'override' in params:\n",
    "  costOverrides = []\n",
    "  for technology, parameters in params['override'].items():\n",
    "      for parameter, value in parameters.items():\n",
    "          costOverrides.append({\n",
    "              'technology': technology,\n",
    "              'parameter': parameter,\n",
    "              'value': value\n",
    "          })\n",
    "  for item in costOverrides:\n",
    "    # costs.loc[(item['technology'], item['parameter']), 'value'] = item['value']\n",
    "\n",
    "# print(costs.loc['Ammonia cracker', 'FOM'])\n",
    "# costs.head(20)\n",
    "\n",
    "nan_rows = costs[costs['value'].isna()]\n",
    "print(nan_rows)"
   ]
  }
 ],
 "metadata": {
  "kernelspec": {
   "display_name": "pypsa-eur",
   "language": "python",
   "name": "python3"
  },
  "language_info": {
   "codemirror_mode": {
    "name": "ipython",
    "version": 3
   },
   "file_extension": ".py",
   "mimetype": "text/x-python",
   "name": "python",
   "nbconvert_exporter": "python",
   "pygments_lexer": "ipython3",
   "version": "3.12.8"
  }
 },
 "nbformat": 4,
 "nbformat_minor": 2
}
