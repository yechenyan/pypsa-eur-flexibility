{
 "cells": [
  {
   "cell_type": "code",
   "execution_count": 1,
   "metadata": {},
   "outputs": [],
   "source": [
    "import numpy as np\n",
    "import pypsa\n",
    "\n"
   ]
  },
  {
   "cell_type": "code",
   "execution_count": 17,
   "metadata": {},
   "outputs": [],
   "source": [
    "network = pypsa.Network()\n",
    "\n",
    "network.add(\"Carrier\", \"AC\")\n",
    "\n",
    "network.add(\"Bus\",  \"G1\", v_nom=1, carrier=\"AC\")\n",
    "network.add(\"Bus\",  \"G2\", v_nom=1, carrier=\"AC\")\n",
    "network.add(\"Bus\",  \"load\", v_nom=1, carrier=\"AC\")\n",
    "\n",
    "\n",
    "network.add(\n",
    "  \"Line\",\n",
    "  \"G1 -> load\",\n",
    "  bus0=\"G1\",\n",
    "  bus1=\"load\",\n",
    "  efficiency=1,\n",
    "  marginal_cost = 1,\n",
    "  capital_cost=10,\n",
    "  carrier=\"AC\",\n",
    "  length= 1,\n",
    "  x=0.1,\n",
    "  r=0.01,\n",
    ")\n",
    "\n",
    "network.add(\n",
    "  \"Line\",\n",
    "  \"G2 -> load\",\n",
    "  bus0=\"G2\",\n",
    "  bus1=\"load\",\n",
    "  efficiency=1,\n",
    "  marginal_cost = 1,\n",
    "  capital_cost=10,\n",
    "  carrier=\"AC\",\n",
    "  length= 1,\n",
    "  x=0.1,\n",
    "  r=0.01,\n",
    ")\n",
    "\n",
    "network.add(\"Generator\", \n",
    "  \"G_G1\", \n",
    "  bus=\"G1\",\n",
    "  control=\"PQ\",\n",
    "  marginal_cost = 1,\n",
    "  capital_cost=10,\n",
    "  carrier=\"AC\"\n",
    ")\n",
    "network.add(\"Generator\", \n",
    "  \"G_G2\", \n",
    "  bus=\"G2\", \n",
    "  control=\"PQ\",\n",
    "  marginal_cost = 1,\n",
    "  capital_cost=10,\n",
    "  carrier=\"AC\"\n",
    ")\n",
    "\n",
    "network.add(\"Load\", \n",
    "  \"L_load\", \n",
    "  bus=\"load\", \n",
    "  p_set=100,\n",
    "  carrier=\"AC\",\n",
    "  marginal_cost = 1,\n",
    "  capital_cost=10,\n",
    "  )\n",
    "\n",
    "network.snapshots = ['2015-01-01 00:00:00', '2015-01-01 01:00:00',\n",
    "               '2015-01-01 02:00:00', '2015-01-01 03:00:00',\n",
    "               '2015-01-01 04:00:00', '2015-01-01 05:00:00',\n",
    "               '2015-01-01 06:00:00', '2015-01-01 07:00:00',\n",
    "               '2015-01-01 08:00:00', '2015-01-01 09:00:00']\n"
   ]
  },
  {
   "cell_type": "code",
   "execution_count": 18,
   "metadata": {},
   "outputs": [
    {
     "name": "stderr",
     "output_type": "stream",
     "text": [
      "INFO:linopy.model: Solve problem using Highs solver\n",
      "INFO:linopy.io: Writing time: 0.01s\n",
      "WARNING:linopy.constants:Optimization failed: \n",
      "Status: warning\n",
      "Termination condition: infeasible\n",
      "Solution: 0 primals, 0 duals\n",
      "Objective: nan\n",
      "Solver model: available\n",
      "Solver message: infeasible\n",
      "\n"
     ]
    },
    {
     "name": "stdout",
     "output_type": "stream",
     "text": [
      "Running HiGHS 1.7.2 (git hash: 184e327): Copyright (c) 2024 HiGHS under MIT licence terms\n",
      "Coefficient ranges:\n",
      "  Matrix [1e+00, 1e+00]\n",
      "  Cost   [1e+00, 1e+00]\n",
      "  Bound  [0e+00, 0e+00]\n",
      "  RHS    [1e+02, 1e+02]\n",
      "Presolving model\n",
      "Problem status detected on presolve: Infeasible\n",
      "Model   status      : Infeasible\n",
      "Objective value     :  0.0000000000e+00\n",
      "HiGHS run time      :          0.00\n",
      "Writing the solution to /private/var/folders/v7/3zkz2x8x0gg0zyw7txxpwk380000gn/T/linopy-solve-_qukr6h1.sol\n"
     ]
    },
    {
     "data": {
      "text/plain": [
       "('warning', 'infeasible')"
      ]
     },
     "execution_count": 18,
     "metadata": {},
     "output_type": "execute_result"
    }
   ],
   "source": [
    "network.optimize()"
   ]
  }
 ],
 "metadata": {
  "kernelspec": {
   "display_name": "pypsa-eur",
   "language": "python",
   "name": "python3"
  },
  "language_info": {
   "codemirror_mode": {
    "name": "ipython",
    "version": 3
   },
   "file_extension": ".py",
   "mimetype": "text/x-python",
   "name": "python",
   "nbconvert_exporter": "python",
   "pygments_lexer": "ipython3",
   "version": "3.12.8"
  }
 },
 "nbformat": 4,
 "nbformat_minor": 2
}
