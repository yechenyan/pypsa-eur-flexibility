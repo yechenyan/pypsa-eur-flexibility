{
 "cells": [
  {
   "cell_type": "code",
   "execution_count": 1,
   "metadata": {},
   "outputs": [],
   "source": [
    "import matplotlib.pyplot as plt\n",
    "\n",
    "import pypsa"
   ]
  },
  {
   "cell_type": "code",
   "execution_count": 14,
   "metadata": {},
   "outputs": [
    {
     "name": "stderr",
     "output_type": "stream",
     "text": [
      "WARNING:pypsa.io:Importing network from PyPSA version v0.17.1 while current version is v0.32.0. Read the release notes at https://pypsa.readthedocs.io/en/latest/release_notes.html to prepare your network for import.\n",
      "INFO:pypsa.io:Imported network scigrid-de.nc has buses, generators, lines, loads, storage_units, transformers\n"
     ]
    }
   ],
   "source": [
    "n = pypsa.examples.scigrid_de(from_master=True)\n",
    "n.storage_units.at['100_220kV Pumped Hydro', 'p_nom_extendable'] = True"
   ]
  },
  {
   "cell_type": "code",
   "execution_count": 15,
   "metadata": {},
   "outputs": [
    {
     "name": "stderr",
     "output_type": "stream",
     "text": [
      "WARNING:pypsa.consistency:The following transformers have zero r, which could break the linear load flow:\n",
      "Index(['2', '5', '10', '12', '13', '15', '18', '20', '22', '24', '26', '30',\n",
      "       '32', '37', '42', '46', '52', '56', '61', '68', '69', '74', '78', '86',\n",
      "       '87', '94', '95', '96', '99', '100', '104', '105', '106', '107', '117',\n",
      "       '120', '123', '124', '125', '128', '129', '138', '143', '156', '157',\n",
      "       '159', '160', '165', '184', '191', '195', '201', '220', '231', '232',\n",
      "       '233', '236', '247', '248', '250', '251', '252', '261', '263', '264',\n",
      "       '267', '272', '279', '281', '282', '292', '303', '307', '308', '312',\n",
      "       '315', '317', '322', '332', '334', '336', '338', '351', '353', '360',\n",
      "       '362', '382', '384', '385', '391', '403', '404', '413', '421', '450',\n",
      "       '458'],\n",
      "      dtype='object', name='Transformer')\n",
      "WARNING:pypsa.consistency:The following transformers have zero r, which could break the linear load flow:\n",
      "Index(['2', '5', '10', '12', '13', '15', '18', '20', '22', '24', '26', '30',\n",
      "       '32', '37', '42', '46', '52', '56', '61', '68', '69', '74', '78', '86',\n",
      "       '87', '94', '95', '96', '99', '100', '104', '105', '106', '107', '117',\n",
      "       '120', '123', '124', '125', '128', '129', '138', '143', '156', '157',\n",
      "       '159', '160', '165', '184', '191', '195', '201', '220', '231', '232',\n",
      "       '233', '236', '247', '248', '250', '251', '252', '261', '263', '264',\n",
      "       '267', '272', '279', '281', '282', '292', '303', '307', '308', '312',\n",
      "       '315', '317', '322', '332', '334', '336', '338', '351', '353', '360',\n",
      "       '362', '382', '384', '385', '391', '403', '404', '413', '421', '450',\n",
      "       '458'],\n",
      "      dtype='object', name='Transformer')\n",
      "INFO:linopy.model: Solve problem using Highs solver\n",
      "INFO:linopy.io:Writing objective.\n",
      "Writing constraints.: 100%|\u001b[38;2;128;191;255m██████████\u001b[0m| 23/23 [00:00<00:00, 29.83it/s]\n",
      "Writing continuous variables.: 100%|\u001b[38;2;128;191;255m██████████\u001b[0m| 7/7 [00:00<00:00, 75.06it/s]\n",
      "INFO:linopy.io: Writing time: 0.94s\n"
     ]
    },
    {
     "name": "stdout",
     "output_type": "stream",
     "text": [
      "Running HiGHS 1.7.2 (git hash: 184e327): Copyright (c) 2024 HiGHS under MIT licence terms\n",
      "Coefficient ranges:\n"
     ]
    },
    {
     "name": "stderr",
     "output_type": "stream",
     "text": [
      "INFO:linopy.constants: Optimization successful: \n",
      "Status: ok\n",
      "Termination condition: optimal\n",
      "Solution: 59641 primals, 142969 duals\n",
      "Objective: 6.67e+06\n",
      "Solver model: available\n",
      "Solver message: optimal\n",
      "\n",
      "INFO:pypsa.optimization.optimize:The shadow-prices of the constraints Generator-fix-p-lower, Generator-fix-p-upper, Line-fix-s-lower, Line-fix-s-upper, Transformer-fix-s-lower, Transformer-fix-s-upper, StorageUnit-fix-p_dispatch-lower, StorageUnit-fix-p_dispatch-upper, StorageUnit-ext-p_dispatch-lower, StorageUnit-ext-p_dispatch-upper, StorageUnit-fix-p_store-lower, StorageUnit-fix-p_store-upper, StorageUnit-ext-p_store-lower, StorageUnit-ext-p_store-upper, StorageUnit-fix-state_of_charge-lower, StorageUnit-fix-state_of_charge-upper, StorageUnit-ext-state_of_charge-lower, StorageUnit-ext-state_of_charge-upper, Kirchhoff-Voltage-Law, StorageUnit-energy_balance were not assigned to the network.\n"
     ]
    },
    {
     "name": "stdout",
     "output_type": "stream",
     "text": [
      "  Matrix [1e-02, 2e+02]\n",
      "  Cost   [3e+00, 1e+02]\n",
      "  Bound  [0e+00, 0e+00]\n",
      "  RHS    [2e-11, 7e+03]\n",
      "Presolving model\n",
      "18737 rows, 44763 cols, 113279 nonzeros  0s\n",
      "13116 rows, 38982 cols, 104440 nonzeros  0s\n",
      "12702 rows, 31571 cols, 96165 nonzeros  0s\n",
      "12701 rows, 31565 cols, 96158 nonzeros  0s\n",
      "Presolve : Reductions: rows 12701(-130268); columns 31565(-28076); elements 96158(-165213)\n",
      "Solving the presolved LP\n",
      "Using EKK dual simplex solver - serial\n",
      "  Iteration        Objective     Infeasibilities num(sum)\n",
      "          0     0.0000000000e+00 Ph1: 0(0) 0s\n",
      "      16127     6.6745632955e+06 Pr: 0(0); Du: 0(1.2712e-12) 4s\n",
      "Solving the original LP from the solution after postsolve\n",
      "Model   status      : Optimal\n",
      "Simplex   iterations: 16127\n",
      "Objective value     :  6.6745632955e+06\n",
      "HiGHS run time      :          3.60\n",
      "Writing the solution to /private/var/folders/v7/3zkz2x8x0gg0zyw7txxpwk380000gn/T/linopy-solve-oz1eyz1t.sol\n"
     ]
    },
    {
     "data": {
      "text/plain": [
       "('ok', 'optimal')"
      ]
     },
     "execution_count": 15,
     "metadata": {},
     "output_type": "execute_result"
    }
   ],
   "source": [
    "n.optimize()"
   ]
  },
  {
   "cell_type": "code",
   "execution_count": 18,
   "metadata": {},
   "outputs": [
    {
     "data": {
      "text/plain": [
       "bus                                      100_220kV\n",
       "control                                         PQ\n",
       "type                                              \n",
       "p_nom                                        144.5\n",
       "p_nom_mod                                      0.0\n",
       "p_nom_extendable                              True\n",
       "p_nom_min                                      0.0\n",
       "p_nom_max                                      inf\n",
       "p_min_pu                                      -1.0\n",
       "p_max_pu                                       1.0\n",
       "p_set                                          0.0\n",
       "q_set                                          0.0\n",
       "sign                                           1.0\n",
       "carrier                               Pumped Hydro\n",
       "spill_cost                                     0.0\n",
       "marginal_cost                                  3.0\n",
       "marginal_cost_quadratic                        0.0\n",
       "marginal_cost_storage                          0.0\n",
       "capital_cost                                   0.0\n",
       "active                                        True\n",
       "build_year                                       0\n",
       "lifetime                                       inf\n",
       "state_of_charge_initial                        0.0\n",
       "state_of_charge_initial_per_period           False\n",
       "state_of_charge_set                            NaN\n",
       "cyclic_state_of_charge                       False\n",
       "cyclic_state_of_charge_per_period             True\n",
       "max_hours                                      6.0\n",
       "efficiency_store                              0.95\n",
       "efficiency_dispatch                           0.95\n",
       "standing_loss                                  0.0\n",
       "inflow                                         0.0\n",
       "p_nom_opt                              2993.531702\n",
       "Name: 100_220kV Pumped Hydro, dtype: object"
      ]
     },
     "execution_count": 18,
     "metadata": {},
     "output_type": "execute_result"
    }
   ],
   "source": [
    "n.storage_units.loc['100_220kV Pumped Hydro']"
   ]
  }
 ],
 "metadata": {
  "kernelspec": {
   "display_name": "pypsa-eur",
   "language": "python",
   "name": "python3"
  },
  "language_info": {
   "codemirror_mode": {
    "name": "ipython",
    "version": 3
   },
   "file_extension": ".py",
   "mimetype": "text/x-python",
   "name": "python",
   "nbconvert_exporter": "python",
   "pygments_lexer": "ipython3",
   "version": "3.12.8"
  }
 },
 "nbformat": 4,
 "nbformat_minor": 2
}
