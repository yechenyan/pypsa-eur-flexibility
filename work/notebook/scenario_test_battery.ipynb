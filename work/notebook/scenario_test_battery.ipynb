{
 "cells": [
  {
   "cell_type": "code",
   "execution_count": 1,
   "metadata": {},
   "outputs": [
    {
     "name": "stderr",
     "output_type": "stream",
     "text": [
      "INFO:pypsa.io:Imported network base_s_27_lvopt_3H_3H_2045.nc has buses, carriers, generators, global_constraints, lines, links, loads, storage_units, stores\n"
     ]
    }
   ],
   "source": [
    "import pypsa\n",
    "import matplotlib.pyplot as plt\n",
    "import pandas as pd\n",
    "\n",
    "\n",
    "rootPath = \"../../results/scenario/battery\"\n",
    "\n",
    "\n",
    "plt.style.use('bmh')\n",
    "%matplotlib inline\n",
    "\n",
    "n = pypsa.Network(rootPath + \"-best/postnetworks/base_s_27_lvopt_3H_3H_2045.nc\")"
   ]
  },
  {
   "cell_type": "code",
   "execution_count": 2,
   "metadata": {},
   "outputs": [
    {
     "name": "stdout",
     "output_type": "stream",
     "text": [
      "DE0 0 battery\n",
      "c 4597.347586408935\n",
      "m 0.010678486695610168\n",
      "0.27816335310441886\n",
      "True\n",
      "inf\n",
      "DE0 0 battery discharger\n",
      "c 0.0\n",
      "m 0.010607686632237852\n",
      "0.10463890957322909\n",
      "True\n",
      "inf\n",
      "DE0 0 battery charger\n",
      "c 3932.7624705390267\n",
      "m 0.00973104123655489\n",
      "0.1035872355492573\n",
      "True\n",
      "inf\n"
     ]
    }
   ],
   "source": [
    "batteryName = 'DE0 0 battery'\n",
    "print(batteryName)\n",
    "print('c',n.stores.loc[batteryName]['capital_cost'])\n",
    "print('m',n.stores.loc[batteryName]['marginal_cost'])\n",
    "print(n.stores.loc[batteryName]['e_nom_opt'])\n",
    "print(n.stores.loc[batteryName]['e_nom_extendable'])\n",
    "print(n.stores.loc[batteryName]['e_nom_max'])\n",
    "\n",
    "dischargerName = 'DE0 0 battery discharger'\n",
    "print(dischargerName)\n",
    "print('c',n.links.loc[dischargerName]['capital_cost'])\n",
    "print('m',n.links.loc[dischargerName]['marginal_cost'])\n",
    "print(n.links.loc[dischargerName]['p_nom_opt'])\n",
    "print(n.links.loc[dischargerName]['p_nom_extendable'])\n",
    "print(n.links.loc[dischargerName]['p_nom_max'])\n",
    "\n",
    "chargeName = 'DE0 0 battery charger'\n",
    "print(chargeName)\n",
    "print('c',n.links.loc[chargeName]['capital_cost'])\n",
    "print('m',n.links.loc[chargeName]['marginal_cost'])\n",
    "print(n.links.loc[chargeName]['p_nom_opt'])\n",
    "print(n.links.loc[chargeName]['p_nom_extendable'])\n",
    "print(n.links.loc[chargeName]['p_nom_max'])"
   ]
  },
  {
   "cell_type": "code",
   "execution_count": 67,
   "metadata": {},
   "outputs": [
    {
     "data": {
      "text/plain": [
       "-7.283426131197537"
      ]
     },
     "execution_count": 67,
     "metadata": {},
     "output_type": "execute_result"
    }
   ],
   "source": [
    "import myUtils as utils\n",
    "\n",
    "import importlib\n",
    "importlib.reload(utils)\n",
    "\n",
    "batteryStoreIds = utils.de_battery_store_grouper(n, 'Store').tolist()\n",
    "n.stores_t.p[batteryStoreIds].clip(upper=0).sum()\n",
    "\n",
    "n.stores.loc[batteryStoreIds]\n",
    "\n",
    "- n.stores_t.p[batteryStoreIds].clip(upper=0).sum().sum()\n",
    "\n"
   ]
  },
  {
   "cell_type": "code",
   "execution_count": 69,
   "metadata": {},
   "outputs": [
    {
     "data": {
      "text/plain": [
       "0.22667815048935996"
      ]
     },
     "execution_count": 69,
     "metadata": {},
     "output_type": "execute_result"
    }
   ],
   "source": [
    "n.stores.loc[batteryStoreIds]['e_nom_opt'].sum()"
   ]
  },
  {
   "cell_type": "code",
   "execution_count": 75,
   "metadata": {},
   "outputs": [
    {
     "data": {
      "text/plain": [
       "1274397606.40116"
      ]
     },
     "execution_count": 75,
     "metadata": {},
     "output_type": "execute_result"
    }
   ],
   "source": [
    "n.statistics.capex(groupby=\"de_elec_store_grouper\").sum()"
   ]
  }
 ],
 "metadata": {
  "kernelspec": {
   "display_name": "pypsa-eur",
   "language": "python",
   "name": "python3"
  },
  "language_info": {
   "codemirror_mode": {
    "name": "ipython",
    "version": 3
   },
   "file_extension": ".py",
   "mimetype": "text/x-python",
   "name": "python",
   "nbconvert_exporter": "python",
   "pygments_lexer": "ipython3",
   "version": "3.12.8"
  }
 },
 "nbformat": 4,
 "nbformat_minor": 2
}
