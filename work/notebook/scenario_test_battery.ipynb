{
 "cells": [
  {
   "cell_type": "code",
   "execution_count": 8,
   "metadata": {},
   "outputs": [
    {
     "name": "stderr",
     "output_type": "stream",
     "text": [
      "INFO:pypsa.io:Imported network base_s_27_lvopt_3H_3H_2045.nc has buses, carriers, generators, global_constraints, lines, links, loads, storage_units, stores\n"
     ]
    }
   ],
   "source": [
    "import pypsa\n",
    "import matplotlib.pyplot as plt\n",
    "import pandas as pd\n",
    "\n",
    "\n",
    "rootPath = \"../../results/scenario/battery\"\n",
    "\n",
    "\n",
    "plt.style.use('bmh')\n",
    "%matplotlib inline\n",
    "\n",
    "n = pypsa.Network(rootPath + \"/prenetworks/base_s_27_lvopt_3H_3H_2045.nc\")"
   ]
  },
  {
   "cell_type": "code",
   "execution_count": 26,
   "metadata": {},
   "outputs": [
    {
     "name": "stdout",
     "output_type": "stream",
     "text": [
      "DE0 0 battery\n",
      "1.0\n",
      "0.0\n",
      "0.0\n",
      "True\n",
      "inf\n",
      "DE0 0 battery discharger\n",
      "0.0\n",
      "1.0\n",
      "0.0\n",
      "True\n",
      "inf\n",
      "DE0 0 battery charger\n",
      "32964.911925723456\n",
      "0.0\n",
      "0.0\n",
      "True\n",
      "inf\n"
     ]
    }
   ],
   "source": [
    "batteryName = 'DE0 0 battery'\n",
    "print(batteryName)\n",
    "print(n.stores.loc[batteryName]['capital_cost'])\n",
    "print(n.stores.loc[batteryName]['marginal_cost'])\n",
    "print(n.stores.loc[batteryName]['e_nom_opt'])\n",
    "print(n.stores.loc[batteryName]['e_nom_extendable'])\n",
    "print(n.stores.loc[batteryName]['e_nom_max'])\n",
    "\n",
    "dischargerName = 'DE0 0 battery discharger'\n",
    "print(dischargerName)\n",
    "print(n.links.loc[dischargerName]['capital_cost'])\n",
    "print(n.links.loc[dischargerName]['marginal_cost'])\n",
    "print(n.links.loc[dischargerName]['p_nom_opt'])\n",
    "print(n.links.loc[dischargerName]['p_nom_extendable'])\n",
    "print(n.links.loc[dischargerName]['p_nom_max'])\n",
    "\n",
    "chargeName = 'DE0 0 battery charger'\n",
    "print(chargeName)\n",
    "print(n.links.loc[chargeName]['capital_cost'])\n",
    "print(n.links.loc[chargeName]['marginal_cost'])\n",
    "print(n.links.loc[chargeName]['p_nom_opt'])\n",
    "print(n.links.loc[chargeName]['p_nom_extendable'])\n",
    "print(n.links.loc[chargeName]['p_nom_max'])"
   ]
  }
 ],
 "metadata": {
  "kernelspec": {
   "display_name": "pypsa-eur",
   "language": "python",
   "name": "python3"
  },
  "language_info": {
   "codemirror_mode": {
    "name": "ipython",
    "version": 3
   },
   "file_extension": ".py",
   "mimetype": "text/x-python",
   "name": "python",
   "nbconvert_exporter": "python",
   "pygments_lexer": "ipython3",
   "version": "3.12.8"
  }
 },
 "nbformat": 4,
 "nbformat_minor": 2
}
