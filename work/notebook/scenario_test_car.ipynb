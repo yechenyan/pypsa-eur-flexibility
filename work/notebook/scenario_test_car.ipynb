{
 "cells": [
  {
   "cell_type": "code",
   "execution_count": 9,
   "metadata": {},
   "outputs": [
    {
     "name": "stderr",
     "output_type": "stream",
     "text": [
      "INFO:pypsa.io:Imported network base_s_27_lvopt_3H_3H_2045.nc has buses, carriers, generators, global_constraints, lines, links, loads, storage_units, stores\n"
     ]
    }
   ],
   "source": [
    "import pypsa\n",
    "import matplotlib.pyplot as plt\n",
    "import pandas as pd\n",
    "\n",
    "\n",
    "rootPath = \"../../results/scenario/PHS\"\n",
    "\n",
    "\n",
    "plt.style.use('bmh')\n",
    "%matplotlib inline\n",
    "\n",
    "n = pypsa.Network(rootPath + \"-mean/postnetworks/base_s_27_lvopt_3H_3H_2045.nc\")\n",
    "# n = pypsa.Network(rootPath + \"-mean/prenetworks/base_s_27_lvopt_3H_3H_2045.nc\")"
   ]
  },
  {
   "cell_type": "code",
   "execution_count": 10,
   "metadata": {},
   "outputs": [
    {
     "name": "stdout",
     "output_type": "stream",
     "text": [
      "DE0 0 EV battery\n",
      "capital_cost: 0.0\n",
      "marginal_cost: 0.009795586020836506\n",
      "e_nom_opt: 113252.63546961709\n",
      "False\n",
      "inf\n",
      "DE0 0 V2G\n",
      "capital_cost: 0.0\n",
      "marginal_cost: 0.009916665025345953\n",
      "p_nom_opt 24915.579803315755\n",
      "False\n",
      "inf\n",
      "DE0 0 BEV charger\n",
      "capital_cost: 0.0\n",
      "marginal_cost: 0.010806355444521736\n",
      "p_nom_opt 49831.15960663151\n",
      "False\n",
      "inf\n"
     ]
    }
   ],
   "source": [
    "batteryName = 'DE0 0 EV battery'\n",
    "print(batteryName)\n",
    "print('capital_cost:',n.stores.loc[batteryName]['capital_cost'])\n",
    "print('marginal_cost:',n.stores.loc[batteryName]['marginal_cost'])\n",
    "print('e_nom_opt:',n.stores.loc[batteryName]['e_nom_opt'])\n",
    "print(n.stores.loc[batteryName]['e_nom_extendable'])\n",
    "print(n.stores.loc[batteryName]['e_nom_max'])\n",
    "\n",
    "dischargerName = 'DE0 0 V2G'\n",
    "print(dischargerName)\n",
    "print('capital_cost:',n.links.loc[dischargerName]['capital_cost'])\n",
    "print('marginal_cost:',n.links.loc[dischargerName]['marginal_cost'])\n",
    "print('p_nom_opt',n.links.loc[dischargerName]['p_nom_opt'])\n",
    "print(n.links.loc[dischargerName]['p_nom_extendable'])\n",
    "print(n.links.loc[dischargerName]['p_nom_max'])\n",
    "\n",
    "chargeName = 'DE0 0 BEV charger'\n",
    "print(chargeName)\n",
    "print('capital_cost:',n.links.loc[chargeName]['capital_cost'])\n",
    "print('marginal_cost:',n.links.loc[chargeName]['marginal_cost'])\n",
    "print('p_nom_opt',n.links.loc[chargeName]['p_nom_opt'])\n",
    "print(n.links.loc[chargeName]['p_nom_extendable'])\n",
    "print(n.links.loc[chargeName]['p_nom_max'])"
   ]
  }
 ],
 "metadata": {
  "kernelspec": {
   "display_name": "pypsa-eur",
   "language": "python",
   "name": "python3"
  },
  "language_info": {
   "codemirror_mode": {
    "name": "ipython",
    "version": 3
   },
   "file_extension": ".py",
   "mimetype": "text/x-python",
   "name": "python",
   "nbconvert_exporter": "python",
   "pygments_lexer": "ipython3",
   "version": "3.12.8"
  }
 },
 "nbformat": 4,
 "nbformat_minor": 2
}
