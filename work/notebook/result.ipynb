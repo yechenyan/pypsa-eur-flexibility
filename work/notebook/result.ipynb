{
 "cells": [
  {
   "cell_type": "code",
   "execution_count": 1,
   "metadata": {},
   "outputs": [
    {
     "name": "stderr",
     "output_type": "stream",
     "text": [
      "INFO:pypsa.io:Imported network base_s_27_lvopt_3H_3H_2045.nc has buses, carriers, generators, global_constraints, lines, links, loads, storage_units, stores\n"
     ]
    }
   ],
   "source": [
    "import pypsa\n",
    "import matplotlib.pyplot as plt\n",
    "import pandas as pd\n",
    "from utils import *\n",
    "rootPath = \"../../results/base/base27Node2045\"  # base scenario\n",
    "\n",
    "# rootPath = \"../../results/scenario/geothermal\"\n",
    "\n",
    "\n",
    "plt.style.use('bmh')\n",
    "%matplotlib inline\n",
    "\n",
    "n = pypsa.Network(rootPath + \"/postnetworks/base_s_27_lvopt_3H_3H_2045.nc\")"
   ]
  },
  {
   "cell_type": "code",
   "execution_count": 20,
   "metadata": {},
   "outputs": [
    {
     "name": "stdout",
     "output_type": "stream",
     "text": [
      "  [H2 Fuel Cell], [0.001], [0.000], [0.000], [0.007], [/],\n",
      "  [Offshore Wind (AC)], [281.395], [81.256], [1.251], [3247.417], [4.324],\n",
      "  [Offshore Wind (DC)], [1481.388], [425.526], [5.784], [17299.268], [29.771],\n",
      "  [Offshore Wind (Floating)], [136.155], [24.289], [0.520], [940.914], [4.112],\n",
      "  [Onshore Wind], [17051.679], [12528.755], [140.323], [505505.195], [4730.150],\n",
      "  [Open-Cycle Gas], [0.002], [0.032], [0.000], [0.010], [/],\n",
      "  [Run of River], [832.946], [155.290], [2.703], [15178.199], [1.136],\n",
      "  [Solar], [3039.256], [902.855], [50.287], [45382.079], [1.467],\n",
      "  [geothermal organic rankine cycle], [0.001], [0.000], [0.000], [0.003], [/],\n",
      "  [nuclear], [3064.887], [/], [4.066], [/], [/],\n",
      "  [solar rooftop], [318.231], [109.587], [5.607], [5328.108], [0.072],\n",
      "  [solar-hsat], [0.006], [0.002], [0.000], [0.088], [0.012],\n",
      "  [urban central CHP], [0.002], [0.086], [0.000], [0.019], [/],\n",
      "  [urban central solid biomass CHP], [0.003], [0.227], [0.000], [0.051], [/],\n"
     ]
    }
   ],
   "source": [
    "capex =n.statistics.capex(groupby=[\"carrier\", \"de_generator_grouper\"]).groupby(\"carrier\").sum() / 1e6  \n",
    "opex = n.statistics.opex(groupby=[\"carrier\", \"de_generator_grouper\"]).groupby(\"carrier\").sum() / 1e3\n",
    "optimal_capacity = n.statistics.optimal_capacity(groupby=[\"carrier\", \"de_generator_grouper\"]).groupby(\"carrier\").sum() / 1e3\n",
    "curtailment = n.statistics.curtailment(groupby=[\"carrier\", \"de_generator_grouper\"]).groupby(\"carrier\").sum() / 1e3\n",
    "supply = n.statistics.supply(groupby=[\"carrier\", \"de_generator_grouper\"]).groupby(\"carrier\").sum() / 1e3\n",
    "result_df = pd.DataFrame({\n",
    "    'CAPEX': capex,\n",
    "    'OPEX': opex,\n",
    "    'Optimal Capacity': optimal_capacity,\n",
    "    'supply': supply,\n",
    "    \"curtailment\": curtailment,\n",
    "   \n",
    "})\n",
    "\n",
    "\n",
    "\n",
    "table = dataframe_to_table(result_df)\n",
    "print(table)"
   ]
  },
  {
   "cell_type": "code",
   "execution_count": 6,
   "metadata": {},
   "outputs": [
    {
     "name": "stdout",
     "output_type": "stream",
     "text": [
      "  [Biomasse CHP], [0.002], [0.184], [0.000], [0.041],\n",
      "  [Biomassekessel], [1546.535], [163725.409], [14.075], [15264.426],\n",
      "  [Gas CHP], [0.002], [0.078], [0.000], [0.017],\n",
      "  [Gaskessel], [369.858], [83.836], [41.800], [10434.265],\n",
      "  [Solarthermie], [0.002], [0.000], [0.000], [0.022],\n",
      "  [Strom zu Wärme], [13121.784], [2197.667], [112.789], [516228.183],\n"
     ]
    }
   ],
   "source": [
    "capex =n.statistics.capex(groupby=[\"carrier\", \"de_heat_generator_grouper\"]).groupby(\"carrier\").sum() / 1e6  \n",
    "opex = n.statistics.opex(groupby=[\"carrier\", \"de_heat_generator_grouper\"]).groupby(\"carrier\").sum() / 1e3\n",
    "optimal_capacity = n.statistics.optimal_capacity(groupby=[\"carrier\", \"de_heat_generator_grouper\"]).groupby(\"carrier\").sum() / 1e3\n",
    "curtailment = n.statistics.curtailment(groupby=[\"carrier\", \"de_heat_generator_grouper\"]).groupby(\"carrier\").sum() / 1e3\n",
    "supply = n.statistics.supply(groupby=[\"carrier\", \"de_heat_generator_grouper\"]).groupby(\"carrier\").sum() / 1e3\n",
    "\n",
    "\n",
    "\n",
    "result_df = pd.DataFrame({\n",
    "    'CAPEX': renameHeatCarrier(capex),\n",
    "    'OPEX': renameHeatCarrier(opex),\n",
    "    'Optimal Capacity': renameHeatCarrier(optimal_capacity),\n",
    "    'supply': renameHeatCarrier(supply),\n",
    "})\n",
    "\n",
    "table = dataframe_to_table(result_df)\n",
    "print(table)\n"
   ]
  },
  {
   "cell_type": "code",
   "execution_count": 7,
   "metadata": {},
   "outputs": [
    {
     "name": "stdout",
     "output_type": "stream",
     "text": [
      "  [CAPEX],[Mrd.Euro],[64.26],\n",
      "  [nvestierte CAPEX],[Mrd.Euro],[44.92],\n",
      "  [OPEX],[Mrd.Euro],[6.63],\n",
      "  [Strom CAPEX],[Mrd.Euro],[26.20],\n",
      "  [Strom investierte CAPEX],[Mrd.Euro],[10.91],\n",
      "  [Strom OPEX],[Mrd.Euro],[10.91],\n",
      "  [Stromkapazität],[GW],[210.52],\n",
      "  [Stromerzeugung],[TWH],[589.77],\n",
      "  [Importkapazität],[GW],[92.97],\n",
      "  [Importmenge],[TWH],[269.30],\n",
      "  [Exportkapazität],[GW],[98.19],\n",
      "  [Exportmenge],[TWH],[243.77],\n",
      "\n",
      "  [CAPEX],[Mrd.Euro],[618.80],\n",
      "  [nvestierte CAPEX],[Mrd.Euro],[470.83],\n",
      "  [OPEX],[Mrd.Euro],[62.14],\n"
     ]
    }
   ],
   "source": [
    "pd.set_option('display.float_format', '{:.2f}'.format)\n",
    "\n",
    "def tablePrint(name, unit, value):\n",
    "  print(f\"  [{name}],[{unit}],[{value:.2f}],\")\n",
    "\n",
    "tablePrint('CAPEX', 'Mrd.Euro', n.statistics.capex(groupby=\"de_grouper\").sum() / 1e9)\n",
    "tablePrint('nvestierte CAPEX', 'Mrd.Euro', n.statistics.expanded_capex(groupby=\"de_grouper\").sum() / 1e9)\n",
    "tablePrint('OPEX', 'Mrd.Euro', n.statistics.opex(groupby=\"de_grouper\").sum() / 1e9)\n",
    "tablePrint('Strom CAPEX', 'Mrd.Euro', n.statistics.capex(groupby=\"de_generator_grouper\").sum() / 1e9)\n",
    "tablePrint('Strom investierte CAPEX', 'Mrd.Euro', n.statistics.expanded_capex(groupby=\"de_generator_grouper\").sum() / 1e9)\n",
    "tablePrint('Strom OPEX', 'Mrd.Euro', n.statistics.expanded_capex(groupby=\"de_generator_grouper\").sum() / 1e9)\n",
    "tablePrint('Stromkapazität', 'GW', n.statistics.optimal_capacity(groupby='de_generator_grouper').sum() / 1e3)\n",
    "tablePrint('Stromerzeugung', 'TWH', n.statistics.supply(groupby='de_generator_grouper').sum() / 1e6)\n",
    "tablePrint('Importkapazität', 'GW', n.statistics.optimal_capacity(groupby=\"de_import_elec_grouper\").sum() / 1e3)\n",
    "tablePrint('Importmenge', 'TWH', n.statistics.supply(groupby=\"de_import_elec_grouper\").sum() / 1e6)\n",
    "tablePrint('Exportkapazität', 'GW', n.statistics.optimal_capacity(groupby=\"de_export_elec_grouper\").sum() / 1e3)\n",
    "tablePrint('Exportmenge', 'TWH', n.statistics.supply(groupby=\"de_export_elec_grouper\").sum() / 1e6)\n",
    "print('')\n",
    "tablePrint('CAPEX', 'Mrd.Euro', n.statistics.capex().sum() / 1e9)\n",
    "tablePrint('nvestierte CAPEX', 'Mrd.Euro', n.statistics.expanded_capex().sum() / 1e9)\n",
    "tablePrint('OPEX', 'Mrd.Euro', n.statistics.opex().sum() / 1e9)\n",
    "\n",
    "\n",
    "\n",
    "\n",
    "# print('de supply (TWh)', n.statistics.supply(groupby=\"de_grouper\").sum() / 1e6)\n",
    "# print('de optimal_capacity (TW)', n.statistics.optimal_capacity(groupby=\"de_grouper\").sum() / 1e6)\n",
    "\n",
    "\n",
    "# print('')\n",
    "# print('eu capex (Mrd.Euro)', n.statistics.capex(groupby=\"eu_grouper\").sum() / 1e9) \n",
    "# print('eu expend capex (Mrd.Euro)', n.statistics.expanded_capex(groupby=\"eu_grouper\").sum() / 1e9)\n",
    "# print('eu opex (Mrd.Euro)', n.statistics.opex(groupby=\"eu_grouper\").sum() / 1e9)\n",
    "# print('eu optimal_capacity (TW)', n.statistics.optimal_capacity(groupby=\"eu_grouper\").sum() / 1e6)\n",
    "# print('eu supply (TWH)', n.statistics.supply(groupby=\"eu_grouper\").sum() / 1e6)\n",
    "\n",
    "\n",
    "\n",
    "# print('')\n",
    "# print('all capex (Mrd.Euro)', n.statistics.capex().sum() / 1e9) \n",
    "# print('all expend capex (Mrd.Euro)', n.statistics.expanded_capex().sum() / 1e9)\n",
    "# print('all opex (Mrd.Euro)', n.statistics.opex().sum() / 1e9)\n",
    "\n",
    "# print('all supply (TWh)', n.statistics.supply().sum() / 1e6)\n",
    "# print('all optimal_capacity (TW)', n.statistics.optimal_capacity().sum() / 1e6)\n"
   ]
  }
 ],
 "metadata": {
  "kernelspec": {
   "display_name": "pypsa-eur",
   "language": "python",
   "name": "python3"
  },
  "language_info": {
   "codemirror_mode": {
    "name": "ipython",
    "version": 3
   },
   "file_extension": ".py",
   "mimetype": "text/x-python",
   "name": "python",
   "nbconvert_exporter": "python",
   "pygments_lexer": "ipython3",
   "version": "3.12.8"
  }
 },
 "nbformat": 4,
 "nbformat_minor": 2
}
