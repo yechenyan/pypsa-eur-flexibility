{
 "cells": [
  {
   "cell_type": "code",
   "execution_count": 1,
   "metadata": {},
   "outputs": [
    {
     "name": "stderr",
     "output_type": "stream",
     "text": [
      "INFO:pypsa.io:Imported network base_s_27_lvopt_3H_3H_2045.nc has buses, carriers, generators, global_constraints, lines, links, loads, storage_units, stores\n"
     ]
    }
   ],
   "source": [
    "import pypsa\n",
    "import matplotlib.pyplot as plt\n",
    "import pandas as pd\n",
    "\n",
    "\n",
    "rootPath = \"../../results/scenario/PHS\"\n",
    "\n",
    "\n",
    "plt.style.use('bmh')\n",
    "%matplotlib inline\n",
    "\n",
    "n = pypsa.Network(rootPath + \"-max/postnetworks/base_s_27_lvopt_3H_3H_2045.nc\")"
   ]
  },
  {
   "cell_type": "code",
   "execution_count": 8,
   "metadata": {},
   "outputs": [
    {
     "data": {
      "text/plain": [
       "bus                                           DE0 0\n",
       "control                                          PQ\n",
       "type                                               \n",
       "p_nom                                         340.0\n",
       "p_nom_mod                                       0.0\n",
       "p_nom_extendable                               True\n",
       "p_nom_min                                       0.0\n",
       "p_nom_max                                     170.0\n",
       "p_min_pu                                       -1.0\n",
       "p_max_pu                                        1.0\n",
       "p_set                                           0.0\n",
       "q_set                                           0.0\n",
       "sign                                            1.0\n",
       "carrier                                         PHS\n",
       "spill_cost                                      0.0\n",
       "marginal_cost                              0.010103\n",
       "marginal_cost_quadratic                         0.0\n",
       "marginal_cost_storage                           0.0\n",
       "capital_cost                          162299.486727\n",
       "active                                         True\n",
       "build_year                                        0\n",
       "lifetime                                        inf\n",
       "state_of_charge_initial                         0.0\n",
       "state_of_charge_initial_per_period            False\n",
       "state_of_charge_set                             NaN\n",
       "cyclic_state_of_charge                         True\n",
       "cyclic_state_of_charge_per_period              True\n",
       "max_hours                                  4.911765\n",
       "efficiency_store                           0.894427\n",
       "efficiency_dispatch                        0.894427\n",
       "standing_loss                                   0.0\n",
       "inflow                                          0.0\n",
       "p_nom_opt                                  0.001856\n",
       "Name: DE0 0 PHS, dtype: object"
      ]
     },
     "execution_count": 8,
     "metadata": {},
     "output_type": "execute_result"
    }
   ],
   "source": [
    "\n",
    "n.storage_units_t.p['DE0 0 PHS']\n",
    "n.storage_units.loc['DE0 0 PHS']"
   ]
  }
 ],
 "metadata": {
  "kernelspec": {
   "display_name": "pypsa-eur",
   "language": "python",
   "name": "python3"
  },
  "language_info": {
   "codemirror_mode": {
    "name": "ipython",
    "version": 3
   },
   "file_extension": ".py",
   "mimetype": "text/x-python",
   "name": "python",
   "nbconvert_exporter": "python",
   "pygments_lexer": "ipython3",
   "version": "3.12.8"
  }
 },
 "nbformat": 4,
 "nbformat_minor": 2
}
